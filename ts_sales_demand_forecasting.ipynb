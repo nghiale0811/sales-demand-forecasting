{
  "nbformat": 4,
  "nbformat_minor": 0,
  "metadata": {
    "colab": {
      "name": "ts-sales-demand-forecasting.ipynb",
      "provenance": [],
      "toc_visible": true
    },
    "kernelspec": {
      "name": "python3",
      "display_name": "Python 3"
    },
    "language_info": {
      "name": "python"
    }
  },
  "cells": [
    {
      "cell_type": "code",
      "execution_count": 679,
      "metadata": {
        "colab": {
          "base_uri": "https://localhost:8080/"
        },
        "id": "Hk7jDQ1rGkO4",
        "outputId": "fff3bd23-b179-42c5-95a7-a084c4fe86e3"
      },
      "outputs": [
        {
          "output_type": "stream",
          "name": "stdout",
          "text": [
            "Requirement already satisfied: fbprophet in /usr/local/lib/python3.7/dist-packages (0.7.1)\n",
            "Requirement already satisfied: Cython>=0.22 in /usr/local/lib/python3.7/dist-packages (from fbprophet) (0.29.28)\n",
            "Requirement already satisfied: cmdstanpy==0.9.5 in /usr/local/lib/python3.7/dist-packages (from fbprophet) (0.9.5)\n",
            "Requirement already satisfied: pystan>=2.14 in /usr/local/lib/python3.7/dist-packages (from fbprophet) (2.19.1.1)\n",
            "Requirement already satisfied: numpy>=1.15.4 in /usr/local/lib/python3.7/dist-packages (from fbprophet) (1.21.6)\n",
            "Requirement already satisfied: pandas>=1.0.4 in /usr/local/lib/python3.7/dist-packages (from fbprophet) (1.3.5)\n",
            "Requirement already satisfied: matplotlib>=2.0.0 in /usr/local/lib/python3.7/dist-packages (from fbprophet) (3.2.2)\n",
            "Requirement already satisfied: LunarCalendar>=0.0.9 in /usr/local/lib/python3.7/dist-packages (from fbprophet) (0.0.9)\n",
            "Requirement already satisfied: convertdate>=2.1.2 in /usr/local/lib/python3.7/dist-packages (from fbprophet) (2.4.0)\n",
            "Requirement already satisfied: holidays>=0.10.2 in /usr/local/lib/python3.7/dist-packages (from fbprophet) (0.10.5.2)\n",
            "Requirement already satisfied: setuptools-git>=1.2 in /usr/local/lib/python3.7/dist-packages (from fbprophet) (1.2)\n",
            "Requirement already satisfied: python-dateutil>=2.8.0 in /usr/local/lib/python3.7/dist-packages (from fbprophet) (2.8.2)\n",
            "Requirement already satisfied: tqdm>=4.36.1 in /usr/local/lib/python3.7/dist-packages (from fbprophet) (4.64.0)\n",
            "Requirement already satisfied: pymeeus<=1,>=0.3.13 in /usr/local/lib/python3.7/dist-packages (from convertdate>=2.1.2->fbprophet) (0.5.11)\n",
            "Requirement already satisfied: six in /usr/local/lib/python3.7/dist-packages (from holidays>=0.10.2->fbprophet) (1.15.0)\n",
            "Requirement already satisfied: hijri-converter in /usr/local/lib/python3.7/dist-packages (from holidays>=0.10.2->fbprophet) (2.2.3)\n",
            "Requirement already satisfied: korean-lunar-calendar in /usr/local/lib/python3.7/dist-packages (from holidays>=0.10.2->fbprophet) (0.2.1)\n",
            "Requirement already satisfied: ephem>=3.7.5.3 in /usr/local/lib/python3.7/dist-packages (from LunarCalendar>=0.0.9->fbprophet) (4.1.3)\n",
            "Requirement already satisfied: pytz in /usr/local/lib/python3.7/dist-packages (from LunarCalendar>=0.0.9->fbprophet) (2022.1)\n",
            "Requirement already satisfied: kiwisolver>=1.0.1 in /usr/local/lib/python3.7/dist-packages (from matplotlib>=2.0.0->fbprophet) (1.4.2)\n",
            "Requirement already satisfied: cycler>=0.10 in /usr/local/lib/python3.7/dist-packages (from matplotlib>=2.0.0->fbprophet) (0.11.0)\n",
            "Requirement already satisfied: pyparsing!=2.0.4,!=2.1.2,!=2.1.6,>=2.0.1 in /usr/local/lib/python3.7/dist-packages (from matplotlib>=2.0.0->fbprophet) (3.0.8)\n",
            "Requirement already satisfied: typing-extensions in /usr/local/lib/python3.7/dist-packages (from kiwisolver>=1.0.1->matplotlib>=2.0.0->fbprophet) (4.2.0)\n"
          ]
        }
      ],
      "source": [
        "!pip install fbprophet\n",
        "\n",
        "import warnings\n",
        "warnings.filterwarnings('ignore')\n",
        "\n",
        "import pandas as pd\n",
        "import matplotlib.pyplot as plt\n",
        "import seaborn as sns\n",
        "import numpy as np\n",
        "import statsmodels.api as sm\n",
        "import datetime as dt\n",
        "\n",
        "import fbprophet\n",
        "from fbprophet import Prophet\n",
        "\n",
        "from sklearn.metrics import mean_squared_error\n",
        "from sklearn.model_selection import train_test_split\n",
        "\n",
        "from tensorflow import keras\n",
        "from keras import optimizers\n",
        "from keras.utils.vis_utils import plot_model\n",
        "from keras.models import Sequential, Model\n",
        "from keras.layers.convolutional import Conv1D, MaxPooling1D\n",
        "from keras.layers import Dense, LSTM, RepeatVector, TimeDistributed, Flatten"
      ]
    },
    {
      "cell_type": "code",
      "source": [
        "url1 = 'https://raw.githubusercontent.com/nghiale0811/sales-demand-forecasting/main/train.csv'\n",
        "train  = pd.read_csv(url1)\n",
        "\n",
        "url2 = 'https://raw.githubusercontent.com/nghiale0811/sales-demand-forecasting/main/test.csv'\n",
        "test  = pd.read_csv(url2)"
      ],
      "metadata": {
        "id": "fey-nBlHJPXK"
      },
      "execution_count": 680,
      "outputs": []
    },
    {
      "cell_type": "code",
      "source": [
        "train.head()"
      ],
      "metadata": {
        "colab": {
          "base_uri": "https://localhost:8080/",
          "height": 206
        },
        "id": "8DSR_Q_lKJxJ",
        "outputId": "62096127-3a53-402c-94c7-40fa5dd1ed9e"
      },
      "execution_count": 681,
      "outputs": [
        {
          "output_type": "execute_result",
          "data": {
            "text/plain": [
              "         date  store  item  sales\n",
              "0  2013-01-01      1     1     13\n",
              "1  2013-01-02      1     1     11\n",
              "2  2013-01-03      1     1     14\n",
              "3  2013-01-04      1     1     13\n",
              "4  2013-01-05      1     1     10"
            ],
            "text/html": [
              "\n",
              "  <div id=\"df-4fa62a02-ffab-43c2-a642-16a053f4185f\">\n",
              "    <div class=\"colab-df-container\">\n",
              "      <div>\n",
              "<style scoped>\n",
              "    .dataframe tbody tr th:only-of-type {\n",
              "        vertical-align: middle;\n",
              "    }\n",
              "\n",
              "    .dataframe tbody tr th {\n",
              "        vertical-align: top;\n",
              "    }\n",
              "\n",
              "    .dataframe thead th {\n",
              "        text-align: right;\n",
              "    }\n",
              "</style>\n",
              "<table border=\"1\" class=\"dataframe\">\n",
              "  <thead>\n",
              "    <tr style=\"text-align: right;\">\n",
              "      <th></th>\n",
              "      <th>date</th>\n",
              "      <th>store</th>\n",
              "      <th>item</th>\n",
              "      <th>sales</th>\n",
              "    </tr>\n",
              "  </thead>\n",
              "  <tbody>\n",
              "    <tr>\n",
              "      <th>0</th>\n",
              "      <td>2013-01-01</td>\n",
              "      <td>1</td>\n",
              "      <td>1</td>\n",
              "      <td>13</td>\n",
              "    </tr>\n",
              "    <tr>\n",
              "      <th>1</th>\n",
              "      <td>2013-01-02</td>\n",
              "      <td>1</td>\n",
              "      <td>1</td>\n",
              "      <td>11</td>\n",
              "    </tr>\n",
              "    <tr>\n",
              "      <th>2</th>\n",
              "      <td>2013-01-03</td>\n",
              "      <td>1</td>\n",
              "      <td>1</td>\n",
              "      <td>14</td>\n",
              "    </tr>\n",
              "    <tr>\n",
              "      <th>3</th>\n",
              "      <td>2013-01-04</td>\n",
              "      <td>1</td>\n",
              "      <td>1</td>\n",
              "      <td>13</td>\n",
              "    </tr>\n",
              "    <tr>\n",
              "      <th>4</th>\n",
              "      <td>2013-01-05</td>\n",
              "      <td>1</td>\n",
              "      <td>1</td>\n",
              "      <td>10</td>\n",
              "    </tr>\n",
              "  </tbody>\n",
              "</table>\n",
              "</div>\n",
              "      <button class=\"colab-df-convert\" onclick=\"convertToInteractive('df-4fa62a02-ffab-43c2-a642-16a053f4185f')\"\n",
              "              title=\"Convert this dataframe to an interactive table.\"\n",
              "              style=\"display:none;\">\n",
              "        \n",
              "  <svg xmlns=\"http://www.w3.org/2000/svg\" height=\"24px\"viewBox=\"0 0 24 24\"\n",
              "       width=\"24px\">\n",
              "    <path d=\"M0 0h24v24H0V0z\" fill=\"none\"/>\n",
              "    <path d=\"M18.56 5.44l.94 2.06.94-2.06 2.06-.94-2.06-.94-.94-2.06-.94 2.06-2.06.94zm-11 1L8.5 8.5l.94-2.06 2.06-.94-2.06-.94L8.5 2.5l-.94 2.06-2.06.94zm10 10l.94 2.06.94-2.06 2.06-.94-2.06-.94-.94-2.06-.94 2.06-2.06.94z\"/><path d=\"M17.41 7.96l-1.37-1.37c-.4-.4-.92-.59-1.43-.59-.52 0-1.04.2-1.43.59L10.3 9.45l-7.72 7.72c-.78.78-.78 2.05 0 2.83L4 21.41c.39.39.9.59 1.41.59.51 0 1.02-.2 1.41-.59l7.78-7.78 2.81-2.81c.8-.78.8-2.07 0-2.86zM5.41 20L4 18.59l7.72-7.72 1.47 1.35L5.41 20z\"/>\n",
              "  </svg>\n",
              "      </button>\n",
              "      \n",
              "  <style>\n",
              "    .colab-df-container {\n",
              "      display:flex;\n",
              "      flex-wrap:wrap;\n",
              "      gap: 12px;\n",
              "    }\n",
              "\n",
              "    .colab-df-convert {\n",
              "      background-color: #E8F0FE;\n",
              "      border: none;\n",
              "      border-radius: 50%;\n",
              "      cursor: pointer;\n",
              "      display: none;\n",
              "      fill: #1967D2;\n",
              "      height: 32px;\n",
              "      padding: 0 0 0 0;\n",
              "      width: 32px;\n",
              "    }\n",
              "\n",
              "    .colab-df-convert:hover {\n",
              "      background-color: #E2EBFA;\n",
              "      box-shadow: 0px 1px 2px rgba(60, 64, 67, 0.3), 0px 1px 3px 1px rgba(60, 64, 67, 0.15);\n",
              "      fill: #174EA6;\n",
              "    }\n",
              "\n",
              "    [theme=dark] .colab-df-convert {\n",
              "      background-color: #3B4455;\n",
              "      fill: #D2E3FC;\n",
              "    }\n",
              "\n",
              "    [theme=dark] .colab-df-convert:hover {\n",
              "      background-color: #434B5C;\n",
              "      box-shadow: 0px 1px 3px 1px rgba(0, 0, 0, 0.15);\n",
              "      filter: drop-shadow(0px 1px 2px rgba(0, 0, 0, 0.3));\n",
              "      fill: #FFFFFF;\n",
              "    }\n",
              "  </style>\n",
              "\n",
              "      <script>\n",
              "        const buttonEl =\n",
              "          document.querySelector('#df-4fa62a02-ffab-43c2-a642-16a053f4185f button.colab-df-convert');\n",
              "        buttonEl.style.display =\n",
              "          google.colab.kernel.accessAllowed ? 'block' : 'none';\n",
              "\n",
              "        async function convertToInteractive(key) {\n",
              "          const element = document.querySelector('#df-4fa62a02-ffab-43c2-a642-16a053f4185f');\n",
              "          const dataTable =\n",
              "            await google.colab.kernel.invokeFunction('convertToInteractive',\n",
              "                                                     [key], {});\n",
              "          if (!dataTable) return;\n",
              "\n",
              "          const docLinkHtml = 'Like what you see? Visit the ' +\n",
              "            '<a target=\"_blank\" href=https://colab.research.google.com/notebooks/data_table.ipynb>data table notebook</a>'\n",
              "            + ' to learn more about interactive tables.';\n",
              "          element.innerHTML = '';\n",
              "          dataTable['output_type'] = 'display_data';\n",
              "          await google.colab.output.renderOutput(dataTable, element);\n",
              "          const docLink = document.createElement('div');\n",
              "          docLink.innerHTML = docLinkHtml;\n",
              "          element.appendChild(docLink);\n",
              "        }\n",
              "      </script>\n",
              "    </div>\n",
              "  </div>\n",
              "  "
            ]
          },
          "metadata": {},
          "execution_count": 681
        }
      ]
    },
    {
      "cell_type": "code",
      "source": [
        "# get a univariate time series\n",
        "df = pd.concat([train,test],sort=True)\n",
        "ts = df[(df.item==1) & (df.store==1)].copy()"
      ],
      "metadata": {
        "id": "rHlx7iNLjie6"
      },
      "execution_count": 682,
      "outputs": []
    },
    {
      "cell_type": "code",
      "source": [
        "ts"
      ],
      "metadata": {
        "colab": {
          "base_uri": "https://localhost:8080/",
          "height": 424
        },
        "id": "tDAcqdsdkVAi",
        "outputId": "838b839e-b53c-4467-81ab-a48d85b0cb28"
      },
      "execution_count": 683,
      "outputs": [
        {
          "output_type": "execute_result",
          "data": {
            "text/plain": [
              "          date    id  item  sales  store\n",
              "0   2013-01-01   NaN     1   13.0      1\n",
              "1   2013-01-02   NaN     1   11.0      1\n",
              "2   2013-01-03   NaN     1   14.0      1\n",
              "3   2013-01-04   NaN     1   13.0      1\n",
              "4   2013-01-05   NaN     1   10.0      1\n",
              "..         ...   ...   ...    ...    ...\n",
              "85  2018-03-27  85.0     1    NaN      1\n",
              "86  2018-03-28  86.0     1    NaN      1\n",
              "87  2018-03-29  87.0     1    NaN      1\n",
              "88  2018-03-30  88.0     1    NaN      1\n",
              "89  2018-03-31  89.0     1    NaN      1\n",
              "\n",
              "[1916 rows x 5 columns]"
            ],
            "text/html": [
              "\n",
              "  <div id=\"df-c903e41b-57ac-4e80-918b-93a179b91055\">\n",
              "    <div class=\"colab-df-container\">\n",
              "      <div>\n",
              "<style scoped>\n",
              "    .dataframe tbody tr th:only-of-type {\n",
              "        vertical-align: middle;\n",
              "    }\n",
              "\n",
              "    .dataframe tbody tr th {\n",
              "        vertical-align: top;\n",
              "    }\n",
              "\n",
              "    .dataframe thead th {\n",
              "        text-align: right;\n",
              "    }\n",
              "</style>\n",
              "<table border=\"1\" class=\"dataframe\">\n",
              "  <thead>\n",
              "    <tr style=\"text-align: right;\">\n",
              "      <th></th>\n",
              "      <th>date</th>\n",
              "      <th>id</th>\n",
              "      <th>item</th>\n",
              "      <th>sales</th>\n",
              "      <th>store</th>\n",
              "    </tr>\n",
              "  </thead>\n",
              "  <tbody>\n",
              "    <tr>\n",
              "      <th>0</th>\n",
              "      <td>2013-01-01</td>\n",
              "      <td>NaN</td>\n",
              "      <td>1</td>\n",
              "      <td>13.0</td>\n",
              "      <td>1</td>\n",
              "    </tr>\n",
              "    <tr>\n",
              "      <th>1</th>\n",
              "      <td>2013-01-02</td>\n",
              "      <td>NaN</td>\n",
              "      <td>1</td>\n",
              "      <td>11.0</td>\n",
              "      <td>1</td>\n",
              "    </tr>\n",
              "    <tr>\n",
              "      <th>2</th>\n",
              "      <td>2013-01-03</td>\n",
              "      <td>NaN</td>\n",
              "      <td>1</td>\n",
              "      <td>14.0</td>\n",
              "      <td>1</td>\n",
              "    </tr>\n",
              "    <tr>\n",
              "      <th>3</th>\n",
              "      <td>2013-01-04</td>\n",
              "      <td>NaN</td>\n",
              "      <td>1</td>\n",
              "      <td>13.0</td>\n",
              "      <td>1</td>\n",
              "    </tr>\n",
              "    <tr>\n",
              "      <th>4</th>\n",
              "      <td>2013-01-05</td>\n",
              "      <td>NaN</td>\n",
              "      <td>1</td>\n",
              "      <td>10.0</td>\n",
              "      <td>1</td>\n",
              "    </tr>\n",
              "    <tr>\n",
              "      <th>...</th>\n",
              "      <td>...</td>\n",
              "      <td>...</td>\n",
              "      <td>...</td>\n",
              "      <td>...</td>\n",
              "      <td>...</td>\n",
              "    </tr>\n",
              "    <tr>\n",
              "      <th>85</th>\n",
              "      <td>2018-03-27</td>\n",
              "      <td>85.0</td>\n",
              "      <td>1</td>\n",
              "      <td>NaN</td>\n",
              "      <td>1</td>\n",
              "    </tr>\n",
              "    <tr>\n",
              "      <th>86</th>\n",
              "      <td>2018-03-28</td>\n",
              "      <td>86.0</td>\n",
              "      <td>1</td>\n",
              "      <td>NaN</td>\n",
              "      <td>1</td>\n",
              "    </tr>\n",
              "    <tr>\n",
              "      <th>87</th>\n",
              "      <td>2018-03-29</td>\n",
              "      <td>87.0</td>\n",
              "      <td>1</td>\n",
              "      <td>NaN</td>\n",
              "      <td>1</td>\n",
              "    </tr>\n",
              "    <tr>\n",
              "      <th>88</th>\n",
              "      <td>2018-03-30</td>\n",
              "      <td>88.0</td>\n",
              "      <td>1</td>\n",
              "      <td>NaN</td>\n",
              "      <td>1</td>\n",
              "    </tr>\n",
              "    <tr>\n",
              "      <th>89</th>\n",
              "      <td>2018-03-31</td>\n",
              "      <td>89.0</td>\n",
              "      <td>1</td>\n",
              "      <td>NaN</td>\n",
              "      <td>1</td>\n",
              "    </tr>\n",
              "  </tbody>\n",
              "</table>\n",
              "<p>1916 rows × 5 columns</p>\n",
              "</div>\n",
              "      <button class=\"colab-df-convert\" onclick=\"convertToInteractive('df-c903e41b-57ac-4e80-918b-93a179b91055')\"\n",
              "              title=\"Convert this dataframe to an interactive table.\"\n",
              "              style=\"display:none;\">\n",
              "        \n",
              "  <svg xmlns=\"http://www.w3.org/2000/svg\" height=\"24px\"viewBox=\"0 0 24 24\"\n",
              "       width=\"24px\">\n",
              "    <path d=\"M0 0h24v24H0V0z\" fill=\"none\"/>\n",
              "    <path d=\"M18.56 5.44l.94 2.06.94-2.06 2.06-.94-2.06-.94-.94-2.06-.94 2.06-2.06.94zm-11 1L8.5 8.5l.94-2.06 2.06-.94-2.06-.94L8.5 2.5l-.94 2.06-2.06.94zm10 10l.94 2.06.94-2.06 2.06-.94-2.06-.94-.94-2.06-.94 2.06-2.06.94z\"/><path d=\"M17.41 7.96l-1.37-1.37c-.4-.4-.92-.59-1.43-.59-.52 0-1.04.2-1.43.59L10.3 9.45l-7.72 7.72c-.78.78-.78 2.05 0 2.83L4 21.41c.39.39.9.59 1.41.59.51 0 1.02-.2 1.41-.59l7.78-7.78 2.81-2.81c.8-.78.8-2.07 0-2.86zM5.41 20L4 18.59l7.72-7.72 1.47 1.35L5.41 20z\"/>\n",
              "  </svg>\n",
              "      </button>\n",
              "      \n",
              "  <style>\n",
              "    .colab-df-container {\n",
              "      display:flex;\n",
              "      flex-wrap:wrap;\n",
              "      gap: 12px;\n",
              "    }\n",
              "\n",
              "    .colab-df-convert {\n",
              "      background-color: #E8F0FE;\n",
              "      border: none;\n",
              "      border-radius: 50%;\n",
              "      cursor: pointer;\n",
              "      display: none;\n",
              "      fill: #1967D2;\n",
              "      height: 32px;\n",
              "      padding: 0 0 0 0;\n",
              "      width: 32px;\n",
              "    }\n",
              "\n",
              "    .colab-df-convert:hover {\n",
              "      background-color: #E2EBFA;\n",
              "      box-shadow: 0px 1px 2px rgba(60, 64, 67, 0.3), 0px 1px 3px 1px rgba(60, 64, 67, 0.15);\n",
              "      fill: #174EA6;\n",
              "    }\n",
              "\n",
              "    [theme=dark] .colab-df-convert {\n",
              "      background-color: #3B4455;\n",
              "      fill: #D2E3FC;\n",
              "    }\n",
              "\n",
              "    [theme=dark] .colab-df-convert:hover {\n",
              "      background-color: #434B5C;\n",
              "      box-shadow: 0px 1px 3px 1px rgba(0, 0, 0, 0.15);\n",
              "      filter: drop-shadow(0px 1px 2px rgba(0, 0, 0, 0.3));\n",
              "      fill: #FFFFFF;\n",
              "    }\n",
              "  </style>\n",
              "\n",
              "      <script>\n",
              "        const buttonEl =\n",
              "          document.querySelector('#df-c903e41b-57ac-4e80-918b-93a179b91055 button.colab-df-convert');\n",
              "        buttonEl.style.display =\n",
              "          google.colab.kernel.accessAllowed ? 'block' : 'none';\n",
              "\n",
              "        async function convertToInteractive(key) {\n",
              "          const element = document.querySelector('#df-c903e41b-57ac-4e80-918b-93a179b91055');\n",
              "          const dataTable =\n",
              "            await google.colab.kernel.invokeFunction('convertToInteractive',\n",
              "                                                     [key], {});\n",
              "          if (!dataTable) return;\n",
              "\n",
              "          const docLinkHtml = 'Like what you see? Visit the ' +\n",
              "            '<a target=\"_blank\" href=https://colab.research.google.com/notebooks/data_table.ipynb>data table notebook</a>'\n",
              "            + ' to learn more about interactive tables.';\n",
              "          element.innerHTML = '';\n",
              "          dataTable['output_type'] = 'display_data';\n",
              "          await google.colab.output.renderOutput(dataTable, element);\n",
              "          const docLink = document.createElement('div');\n",
              "          docLink.innerHTML = docLinkHtml;\n",
              "          element.appendChild(docLink);\n",
              "        }\n",
              "      </script>\n",
              "    </div>\n",
              "  </div>\n",
              "  "
            ]
          },
          "metadata": {},
          "execution_count": 683
        }
      ]
    },
    {
      "cell_type": "code",
      "source": [
        "#visualization\n",
        "res = sm.tsa.seasonal_decompose(ts.sales.dropna(),freq=365)\n",
        "fig = res.plot()\n",
        "fig.set_figheight(8)\n",
        "fig.set_figwidth(15)\n",
        "plt.show()"
      ],
      "metadata": {
        "colab": {
          "base_uri": "https://localhost:8080/",
          "height": 543
        },
        "id": "YQ4pFMQWj7cK",
        "outputId": "3c5316ef-d00a-4ffb-a1f5-80721d214111"
      },
      "execution_count": 684,
      "outputs": [
        {
          "output_type": "display_data",
          "data": {
            "text/plain": [
              "<Figure size 1080x576 with 4 Axes>"
            ],
            "image/png": "[encoded data removed]"
          },
          "metadata": {
            "needs_background": "light"
          }
        }
      ]
    },
    {
      "cell_type": "code",
      "source": [
        "#train_test_split\n",
        "ts = ts.set_index('date').sort_index()\n",
        "train_start,train_end = '2014-01-01','2017-09-30'\n",
        "test_start,test_end = '2017-10-01','2017-12-31'\n",
        "train_data = ts['sales'][train_start:train_end].dropna()\n",
        "test_data = ts['sales'][test_start:test_end].dropna()"
      ],
      "metadata": {
        "id": "4Eb6QwMolS8z"
      },
      "execution_count": 685,
      "outputs": []
    },
    {
      "cell_type": "markdown",
      "source": [
        "#Time series analysis"
      ],
      "metadata": {
        "id": "qVBXtu7Lj343"
      }
    },
    {
      "cell_type": "markdown",
      "source": [
        "We will use the following model, and its parameters is, respectively: <br>\n",
        "\n",
        "\n",
        "*   **ARMA**$(p, q)$\n",
        "*   **ARIMA**$(p, d, q)$\n",
        "*   **SARIMA**$(p, d, q)(P, D, Q)_s$\n",
        "*   **ARIMAX**$(p, d, q)$ + Exogenous variable\n",
        "*   **SARIMAX**$(p, d, q)(P, D, Q)_s$ + Exogenous variable\n"
      ],
      "metadata": {
        "id": "DOZwZY4_lzs0"
      }
    },
    {
      "cell_type": "markdown",
      "source": [
        "We need to check the stationarity assumption by using the Augmented Dickey-Fuller (ADF) test. Note that the option regression in $\\texttt{sm.tsm.adfuller}$ can be specified by 'c' for constant, 'ct' for constant and trend, 'ctt' for constant, linear and quadratic trend, 'nc' for no constant, no trend."
      ],
      "metadata": {
        "id": "y4XkwtXftl--"
      }
    },
    {
      "cell_type": "code",
      "source": [
        "#ADF-test (For original time series)\n",
        "res = sm.tsa.adfuller(ts['sales'].dropna(),regression='ct')\n",
        "print('p-value:{}'.format(res[1]))"
      ],
      "metadata": {
        "colab": {
          "base_uri": "https://localhost:8080/"
        },
        "id": "D8r34FAMlo7k",
        "outputId": "4685b46a-6571-4bdf-b95f-eecc3629885d"
      },
      "execution_count": 686,
      "outputs": [
        {
          "output_type": "stream",
          "name": "stdout",
          "text": [
            "p-value:0.07610688992415213\n"
          ]
        }
      ]
    },
    {
      "cell_type": "code",
      "source": [
        "#ADF-test (For differenced time series)\n",
        "res = sm.tsa.adfuller(ts['sales'].diff().dropna(),regression='c')\n",
        "print('p-value:{}'.format(res[1]))"
      ],
      "metadata": {
        "colab": {
          "base_uri": "https://localhost:8080/"
        },
        "id": "YpMyHVRruV8V",
        "outputId": "b97c3b11-30d4-4266-fd0c-6c6d54978714"
      },
      "execution_count": 687,
      "outputs": [
        {
          "output_type": "stream",
          "name": "stdout",
          "text": [
            "p-value:1.2109276320438902e-23\n"
          ]
        }
      ]
    },
    {
      "cell_type": "markdown",
      "source": [
        "We need to be mindful at which range of data would be used for predicting. The final result depends on which data are chosen"
      ],
      "metadata": {
        "id": "QXPE_Dexuuro"
      }
    },
    {
      "cell_type": "code",
      "source": [
        "#ADF-test(Original time series)\n",
        "res = sm.tsa.adfuller(ts['sales']['2015-01-01':].dropna(),regression='ct')\n",
        "print('p-value:{}'.format(res[1]))"
      ],
      "metadata": {
        "colab": {
          "base_uri": "https://localhost:8080/"
        },
        "id": "1JXYMITzu8mx",
        "outputId": "76bc0a0c-15d8-401c-fdf6-6f6cde148ed6"
      },
      "execution_count": 688,
      "outputs": [
        {
          "output_type": "stream",
          "name": "stdout",
          "text": [
            "p-value:0.5620643402533362\n"
          ]
        }
      ]
    },
    {
      "cell_type": "code",
      "source": [
        "#ADF-test(differenced time series)\n",
        "res = sm.tsa.adfuller(ts['sales']['2015-01-01':].diff().dropna(),regression='c')\n",
        "print('p-value:{}'.format(res[1]))"
      ],
      "metadata": {
        "colab": {
          "base_uri": "https://localhost:8080/"
        },
        "id": "ydhtPtFjvdTJ",
        "outputId": "c727022e-3625-455f-ed9c-90b76575ec8d"
      },
      "execution_count": 689,
      "outputs": [
        {
          "output_type": "stream",
          "name": "stdout",
          "text": [
            "p-value:4.530417561586068e-22\n"
          ]
        }
      ]
    },
    {
      "cell_type": "markdown",
      "source": [
        "The situation where the original time series is not stationary and the differenced time series is stationary is called the unit root process. We can apply ARIMA and SARIMA model for the unit root process. Next, we plot the ACF and PACF to estimate the parameters for ARIMA model."
      ],
      "metadata": {
        "id": "qnpTHGMDwJGn"
      }
    },
    {
      "cell_type": "code",
      "source": [
        "#we use tra.diff()(differenced data), because this time series is unit root process.\n",
        "fig,ax = plt.subplots(2,1,figsize=(20,10))\n",
        "fig = sm.graphics.tsa.plot_acf(ts['sales']['2015-01-01':].diff().dropna(), lags=50, ax=ax[0])\n",
        "fig = sm.graphics.tsa.plot_pacf(ts['sales']['2015-01-01':].diff().dropna(), lags=50, ax=ax[1])\n",
        "plt.show()"
      ],
      "metadata": {
        "colab": {
          "base_uri": "https://localhost:8080/",
          "height": 607
        },
        "id": "3B2bhp6nxPIg",
        "outputId": "118c594f-8552-4dc5-a509-3f4cbd488924"
      },
      "execution_count": 690,
      "outputs": [
        {
          "output_type": "display_data",
          "data": {
            "text/plain": [
              "<Figure size 1440x720 with 2 Axes>"
            ],
            "image/png": "[encoded data removed]"
          },
          "metadata": {
            "needs_background": "light"
          }
        }
      ]
    },
    {
      "cell_type": "markdown",
      "source": [
        "From the plot, we can see that $p = 7$ and $d = 1$ (since the differenced time series is stationary). Now we need to find $q$."
      ],
      "metadata": {
        "id": "2fUUs96ay0Tf"
      }
    },
    {
      "cell_type": "code",
      "source": [
        "%%script echo skipping\n",
        "resDiff = sm.tsa.arma_order_select_ic(ts['sales']['2015-01-01':].dropna(), max_ar=7, max_ma=7, ic='aic', trend='c')\n",
        "print('ARMA(p,q) =', resDiff['aic_min_order'],'is the best.')"
      ],
      "metadata": {
        "colab": {
          "base_uri": "https://localhost:8080/"
        },
        "id": "_gLPV1i3zdWv",
        "outputId": "69b7ac24-0af0-4bcd-c4be-76a26ebb1db4"
      },
      "execution_count": 691,
      "outputs": [
        {
          "output_type": "stream",
          "name": "stdout",
          "text": [
            "skipping\n"
          ]
        }
      ]
    },
    {
      "cell_type": "markdown",
      "source": [
        "Hence, the parameters we need is $p = 7$, $d = 1$ and $q = 7$"
      ],
      "metadata": {
        "id": "dGKVcaJG5JPM"
      }
    },
    {
      "cell_type": "markdown",
      "source": [
        "## ARIMA"
      ],
      "metadata": {
        "id": "1DepFxVF5f5P"
      }
    },
    {
      "cell_type": "code",
      "source": [
        "#We can use SARIMAX model as ARIMAX when seasonal_order is (0,0,0,0)\n",
        "arima = sm.tsa.statespace.SARIMAX(ts['sales']['2015-01-01':].dropna(),order=(7,1,7),freq='D',seasonal_order=(0,0,0,0),\n",
        "                                 enforce_stationarity=False, enforce_invertibility=False,).fit()\n",
        "arima.summary()"
      ],
      "metadata": {
        "colab": {
          "base_uri": "https://localhost:8080/",
          "height": 0
        },
        "id": "65nd15Jh5xe9",
        "outputId": "f734c9a0-9133-49a6-d12b-43b97fca4832"
      },
      "execution_count": 692,
      "outputs": [
        {
          "output_type": "execute_result",
          "data": {
            "text/plain": [
              "<class 'statsmodels.iolib.summary.Summary'>\n",
              "\"\"\"\n",
              "                           Statespace Model Results                           \n",
              "==============================================================================\n",
              "Dep. Variable:                  sales   No. Observations:                 1096\n",
              "Model:               SARIMAX(7, 1, 7)   Log Likelihood               -3286.049\n",
              "Date:                Sat, 07 May 2022   AIC                           6602.098\n",
              "Time:                        06:45:52   BIC                           6676.966\n",
              "Sample:                    01-01-2015   HQIC                          6630.437\n",
              "                         - 12-31-2017                                         \n",
              "Covariance Type:                  opg                                         \n",
              "==============================================================================\n",
              "                 coef    std err          z      P>|z|      [0.025      0.975]\n",
              "------------------------------------------------------------------------------\n",
              "ar.L1         -0.9629      0.046    -21.156      0.000      -1.052      -0.874\n",
              "ar.L2         -0.9791      0.040    -24.618      0.000      -1.057      -0.901\n",
              "ar.L3         -0.9759      0.043    -22.754      0.000      -1.060      -0.892\n",
              "ar.L4         -0.9673      0.043    -22.508      0.000      -1.052      -0.883\n",
              "ar.L5         -0.9861      0.040    -24.910      0.000      -1.064      -0.908\n",
              "ar.L6         -0.9605      0.045    -21.123      0.000      -1.050      -0.871\n",
              "ar.L7          0.0129      0.038      0.337      0.736      -0.062       0.088\n",
              "ma.L1          0.0091      0.035      0.263      0.792      -0.059       0.077\n",
              "ma.L2          0.1194      0.034      3.563      0.000       0.054       0.185\n",
              "ma.L3          0.0549      0.035      1.557      0.119      -0.014       0.124\n",
              "ma.L4          0.0594      0.034      1.751      0.080      -0.007       0.126\n",
              "ma.L5          0.1191      0.034      3.477      0.001       0.052       0.186\n",
              "ma.L6          0.0172      0.033      0.519      0.604      -0.048       0.082\n",
              "ma.L7         -0.8554      0.035    -24.571      0.000      -0.924      -0.787\n",
              "sigma2        24.6806      1.184     20.847      0.000      22.360      27.001\n",
              "===================================================================================\n",
              "Ljung-Box (Q):                       58.46   Jarque-Bera (JB):                 7.47\n",
              "Prob(Q):                              0.03   Prob(JB):                         0.02\n",
              "Heteroskedasticity (H):               1.02   Skew:                             0.15\n",
              "Prob(H) (two-sided):                  0.85   Kurtosis:                         3.27\n",
              "===================================================================================\n",
              "\n",
              "Warnings:\n",
              "[1] Covariance matrix calculated using the outer product of gradients (complex-step).\n",
              "\"\"\""
            ],
            "text/html": [
              "<table class=\"simpletable\">\n",
              "<caption>Statespace Model Results</caption>\n",
              "<tr>\n",
              "  <th>Dep. Variable:</th>         <td>sales</td>      <th>  No. Observations:  </th>   <td>1096</td>   \n",
              "</tr>\n",
              "<tr>\n",
              "  <th>Model:</th>           <td>SARIMAX(7, 1, 7)</td> <th>  Log Likelihood     </th> <td>-3286.049</td>\n",
              "</tr>\n",
              "<tr>\n",
              "  <th>Date:</th>            <td>Sat, 07 May 2022</td> <th>  AIC                </th> <td>6602.098</td> \n",
              "</tr>\n",
              "<tr>\n",
              "  <th>Time:</th>                <td>06:45:52</td>     <th>  BIC                </th> <td>6676.966</td> \n",
              "</tr>\n",
              "<tr>\n",
              "  <th>Sample:</th>             <td>01-01-2015</td>    <th>  HQIC               </th> <td>6630.437</td> \n",
              "</tr>\n",
              "<tr>\n",
              "  <th></th>                   <td>- 12-31-2017</td>   <th>                     </th>     <td> </td>    \n",
              "</tr>\n",
              "<tr>\n",
              "  <th>Covariance Type:</th>        <td>opg</td>       <th>                     </th>     <td> </td>    \n",
              "</tr>\n",
              "</table>\n",
              "<table class=\"simpletable\">\n",
              "<tr>\n",
              "     <td></td>       <th>coef</th>     <th>std err</th>      <th>z</th>      <th>P>|z|</th>  <th>[0.025</th>    <th>0.975]</th>  \n",
              "</tr>\n",
              "<tr>\n",
              "  <th>ar.L1</th>  <td>   -0.9629</td> <td>    0.046</td> <td>  -21.156</td> <td> 0.000</td> <td>   -1.052</td> <td>   -0.874</td>\n",
              "</tr>\n",
              "<tr>\n",
              "  <th>ar.L2</th>  <td>   -0.9791</td> <td>    0.040</td> <td>  -24.618</td> <td> 0.000</td> <td>   -1.057</td> <td>   -0.901</td>\n",
              "</tr>\n",
              "<tr>\n",
              "  <th>ar.L3</th>  <td>   -0.9759</td> <td>    0.043</td> <td>  -22.754</td> <td> 0.000</td> <td>   -1.060</td> <td>   -0.892</td>\n",
              "</tr>\n",
              "<tr>\n",
              "  <th>ar.L4</th>  <td>   -0.9673</td> <td>    0.043</td> <td>  -22.508</td> <td> 0.000</td> <td>   -1.052</td> <td>   -0.883</td>\n",
              "</tr>\n",
              "<tr>\n",
              "  <th>ar.L5</th>  <td>   -0.9861</td> <td>    0.040</td> <td>  -24.910</td> <td> 0.000</td> <td>   -1.064</td> <td>   -0.908</td>\n",
              "</tr>\n",
              "<tr>\n",
              "  <th>ar.L6</th>  <td>   -0.9605</td> <td>    0.045</td> <td>  -21.123</td> <td> 0.000</td> <td>   -1.050</td> <td>   -0.871</td>\n",
              "</tr>\n",
              "<tr>\n",
              "  <th>ar.L7</th>  <td>    0.0129</td> <td>    0.038</td> <td>    0.337</td> <td> 0.736</td> <td>   -0.062</td> <td>    0.088</td>\n",
              "</tr>\n",
              "<tr>\n",
              "  <th>ma.L1</th>  <td>    0.0091</td> <td>    0.035</td> <td>    0.263</td> <td> 0.792</td> <td>   -0.059</td> <td>    0.077</td>\n",
              "</tr>\n",
              "<tr>\n",
              "  <th>ma.L2</th>  <td>    0.1194</td> <td>    0.034</td> <td>    3.563</td> <td> 0.000</td> <td>    0.054</td> <td>    0.185</td>\n",
              "</tr>\n",
              "<tr>\n",
              "  <th>ma.L3</th>  <td>    0.0549</td> <td>    0.035</td> <td>    1.557</td> <td> 0.119</td> <td>   -0.014</td> <td>    0.124</td>\n",
              "</tr>\n",
              "<tr>\n",
              "  <th>ma.L4</th>  <td>    0.0594</td> <td>    0.034</td> <td>    1.751</td> <td> 0.080</td> <td>   -0.007</td> <td>    0.126</td>\n",
              "</tr>\n",
              "<tr>\n",
              "  <th>ma.L5</th>  <td>    0.1191</td> <td>    0.034</td> <td>    3.477</td> <td> 0.001</td> <td>    0.052</td> <td>    0.186</td>\n",
              "</tr>\n",
              "<tr>\n",
              "  <th>ma.L6</th>  <td>    0.0172</td> <td>    0.033</td> <td>    0.519</td> <td> 0.604</td> <td>   -0.048</td> <td>    0.082</td>\n",
              "</tr>\n",
              "<tr>\n",
              "  <th>ma.L7</th>  <td>   -0.8554</td> <td>    0.035</td> <td>  -24.571</td> <td> 0.000</td> <td>   -0.924</td> <td>   -0.787</td>\n",
              "</tr>\n",
              "<tr>\n",
              "  <th>sigma2</th> <td>   24.6806</td> <td>    1.184</td> <td>   20.847</td> <td> 0.000</td> <td>   22.360</td> <td>   27.001</td>\n",
              "</tr>\n",
              "</table>\n",
              "<table class=\"simpletable\">\n",
              "<tr>\n",
              "  <th>Ljung-Box (Q):</th>          <td>58.46</td> <th>  Jarque-Bera (JB):  </th> <td>7.47</td>\n",
              "</tr>\n",
              "<tr>\n",
              "  <th>Prob(Q):</th>                <td>0.03</td>  <th>  Prob(JB):          </th> <td>0.02</td>\n",
              "</tr>\n",
              "<tr>\n",
              "  <th>Heteroskedasticity (H):</th> <td>1.02</td>  <th>  Skew:              </th> <td>0.15</td>\n",
              "</tr>\n",
              "<tr>\n",
              "  <th>Prob(H) (two-sided):</th>    <td>0.85</td>  <th>  Kurtosis:          </th> <td>3.27</td>\n",
              "</tr>\n",
              "</table><br/><br/>Warnings:<br/>[1] Covariance matrix calculated using the outer product of gradients (complex-step)."
            ]
          },
          "metadata": {},
          "execution_count": 692
        }
      ]
    },
    {
      "cell_type": "markdown",
      "source": [
        "We can observe that the value of the residual gradually decreases for further lags. Hence, the ARIMA model might be a good fit for our data."
      ],
      "metadata": {
        "id": "l1m82LIA6837"
      }
    },
    {
      "cell_type": "code",
      "source": [
        "#ACF and PACF\n",
        "res = arima.resid\n",
        "fig,ax = plt.subplots(2,1,figsize=(15,8))\n",
        "fig = sm.graphics.tsa.plot_acf(res, lags=50, ax=ax[0])\n",
        "fig = sm.graphics.tsa.plot_pacf(res, lags=50, ax=ax[1])\n",
        "plt.show()"
      ],
      "metadata": {
        "colab": {
          "base_uri": "https://localhost:8080/",
          "height": 0
        },
        "id": "dciOj6_T6CGI",
        "outputId": "96c4cf94-e37f-457d-f538-f361c5ac07c8"
      },
      "execution_count": 693,
      "outputs": [
        {
          "output_type": "display_data",
          "data": {
            "text/plain": [
              "<Figure size 1080x576 with 2 Axes>"
            ],
            "image/png": "[encoded data removed]"
          },
          "metadata": {
            "needs_background": "light"
          }
        }
      ]
    },
    {
      "cell_type": "code",
      "source": [
        "from sklearn.metrics import mean_squared_error\n",
        "pred = arima.predict(train_end,test_end)[1:]\n",
        "print('ARIMA model MSE:{}'.format(mean_squared_error(test_data, pred)))"
      ],
      "metadata": {
        "colab": {
          "base_uri": "https://localhost:8080/"
        },
        "id": "4dvlsTjB7Ij-",
        "outputId": "9023efa5-678d-4797-e944-6e144dad0ef6"
      },
      "execution_count": 694,
      "outputs": [
        {
          "output_type": "stream",
          "name": "stdout",
          "text": [
            "ARIMA model MSE:24.291453306001994\n"
          ]
        }
      ]
    },
    {
      "cell_type": "code",
      "source": [
        "pd.DataFrame({'test':test_data,'pred':pred}).plot();\n",
        "plt.show()"
      ],
      "metadata": {
        "colab": {
          "base_uri": "https://localhost:8080/",
          "height": 0
        },
        "id": "GzaQadzM8hH4",
        "outputId": "71cf9c0b-7fbe-4e4d-da21-be906a85a505"
      },
      "execution_count": 695,
      "outputs": [
        {
          "output_type": "display_data",
          "data": {
            "text/plain": [
              "<Figure size 432x288 with 1 Axes>"
            ],
            "image/png": "[encoded data removed]"
          },
          "metadata": {
            "needs_background": "light"
          }
        }
      ]
    },
    {
      "cell_type": "markdown",
      "source": [
        "## SARIMA"
      ],
      "metadata": {
        "id": "FpbZ6HHZ8t_4"
      }
    },
    {
      "cell_type": "markdown",
      "source": [
        "We first try with period 1, i.e $(P, D, Q)_s = (7, 1, 7)$ with $s = 1$"
      ],
      "metadata": {
        "id": "rtV0eFZT9AD9"
      }
    },
    {
      "cell_type": "code",
      "source": [
        "sarima = sm.tsa.statespace.SARIMAX(ts['sales']['2015-01-01':].dropna(), order=(7,1,7), seasonal_order=(7,1,7,1),\n",
        "                                enforce_stationarity=False, enforce_invertibility=False, freq='D').fit()\n",
        "sarima.summary()"
      ],
      "metadata": {
        "colab": {
          "base_uri": "https://localhost:8080/",
          "height": 0
        },
        "id": "gZGBrXPT82rI",
        "outputId": "6bbfa34f-ade0-4239-9731-7a978d681558"
      },
      "execution_count": 696,
      "outputs": [
        {
          "output_type": "execute_result",
          "data": {
            "text/plain": [
              "<class 'statsmodels.iolib.summary.Summary'>\n",
              "\"\"\"\n",
              "                                 Statespace Model Results                                \n",
              "=========================================================================================\n",
              "Dep. Variable:                             sales   No. Observations:                 1096\n",
              "Model:             SARIMAX(7, 1, 7)x(7, 1, 7, 1)   Log Likelihood               -3282.862\n",
              "Date:                           Sat, 07 May 2022   AIC                           6623.724\n",
              "Time:                                   06:46:24   BIC                           6768.254\n",
              "Sample:                               01-01-2015   HQIC                          6678.453\n",
              "                                    - 12-31-2017                                         \n",
              "Covariance Type:                             opg                                         \n",
              "==============================================================================\n",
              "                 coef    std err          z      P>|z|      [0.025      0.975]\n",
              "------------------------------------------------------------------------------\n",
              "ar.L1         -0.9182      2.122     -0.433      0.665      -5.078       3.242\n",
              "ar.L2         -0.8937      2.205     -0.405      0.685      -5.215       3.428\n",
              "ar.L3         -0.8991      2.325     -0.387      0.699      -5.456       3.658\n",
              "ar.L4         -0.9000      2.345     -0.384      0.701      -5.496       3.696\n",
              "ar.L5         -0.8953      2.100     -0.426      0.670      -5.012       3.221\n",
              "ar.L6         -0.8820      1.846     -0.478      0.633      -4.499       2.735\n",
              "ar.L7          0.0372      1.731      0.021      0.983      -3.356       3.431\n",
              "ma.L1         -0.1039      0.046     -2.275      0.023      -0.193      -0.014\n",
              "ma.L2         -0.0518      0.052     -1.003      0.316      -0.153       0.049\n",
              "ma.L3         -0.0839      0.046     -1.842      0.065      -0.173       0.005\n",
              "ma.L4         -0.0654      0.041     -1.594      0.111      -0.146       0.015\n",
              "ma.L5         -0.0064      0.039     -0.164      0.870      -0.083       0.070\n",
              "ma.L6         -0.0505      0.040     -1.267      0.205      -0.129       0.028\n",
              "ma.L7         -0.9500      0.042    -22.784      0.000      -1.032      -0.868\n",
              "ar.S.L1       -0.9134      2.101     -0.435      0.664      -5.030       3.204\n",
              "ar.S.L2       -0.9164      2.205     -0.416      0.678      -5.238       3.405\n",
              "ar.S.L3       -0.8953      2.349     -0.381      0.703      -5.499       3.708\n",
              "ar.S.L4       -0.8804      2.329     -0.378      0.705      -5.446       3.685\n",
              "ar.S.L5       -0.9086      2.081     -0.437      0.662      -4.986       3.169\n",
              "ar.S.L6       -0.8981      1.880     -0.478      0.633      -4.583       2.787\n",
              "ar.S.L7        0.0585      1.807      0.032      0.974      -3.482       3.599\n",
              "ma.S.L1       -0.1039      0.046     -2.274      0.023      -0.193      -0.014\n",
              "ma.S.L2       -0.0518      0.052     -1.003      0.316      -0.153       0.049\n",
              "ma.S.L3       -0.0839      0.046     -1.842      0.065      -0.173       0.005\n",
              "ma.S.L4       -0.0654      0.041     -1.594      0.111      -0.146       0.015\n",
              "ma.S.L5       -0.0064      0.039     -0.164      0.870      -0.083       0.070\n",
              "ma.S.L6       -0.0505      0.040     -1.267      0.205      -0.129       0.028\n",
              "ma.S.L7       -0.9500      0.042    -22.784      0.000      -1.032      -0.868\n",
              "sigma2        21.8841      1.166     18.762      0.000      19.598      24.170\n",
              "===================================================================================\n",
              "Ljung-Box (Q):                       45.25   Jarque-Bera (JB):                 4.28\n",
              "Prob(Q):                              0.26   Prob(JB):                         0.12\n",
              "Heteroskedasticity (H):               1.04   Skew:                             0.12\n",
              "Prob(H) (two-sided):                  0.71   Kurtosis:                         3.19\n",
              "===================================================================================\n",
              "\n",
              "Warnings:\n",
              "[1] Covariance matrix calculated using the outer product of gradients (complex-step).\n",
              "[2] Covariance matrix is singular or near-singular, with condition number 4.31e+21. Standard errors may be unstable.\n",
              "\"\"\""
            ],
            "text/html": [
              "<table class=\"simpletable\">\n",
              "<caption>Statespace Model Results</caption>\n",
              "<tr>\n",
              "  <th>Dep. Variable:</th>               <td>sales</td>             <th>  No. Observations:  </th>   <td>1096</td>   \n",
              "</tr>\n",
              "<tr>\n",
              "  <th>Model:</th>           <td>SARIMAX(7, 1, 7)x(7, 1, 7, 1)</td> <th>  Log Likelihood     </th> <td>-3282.862</td>\n",
              "</tr>\n",
              "<tr>\n",
              "  <th>Date:</th>                  <td>Sat, 07 May 2022</td>        <th>  AIC                </th> <td>6623.724</td> \n",
              "</tr>\n",
              "<tr>\n",
              "  <th>Time:</th>                      <td>06:46:24</td>            <th>  BIC                </th> <td>6768.254</td> \n",
              "</tr>\n",
              "<tr>\n",
              "  <th>Sample:</th>                   <td>01-01-2015</td>           <th>  HQIC               </th> <td>6678.453</td> \n",
              "</tr>\n",
              "<tr>\n",
              "  <th></th>                         <td>- 12-31-2017</td>          <th>                     </th>     <td> </td>    \n",
              "</tr>\n",
              "<tr>\n",
              "  <th>Covariance Type:</th>              <td>opg</td>              <th>                     </th>     <td> </td>    \n",
              "</tr>\n",
              "</table>\n",
              "<table class=\"simpletable\">\n",
              "<tr>\n",
              "     <td></td>        <th>coef</th>     <th>std err</th>      <th>z</th>      <th>P>|z|</th>  <th>[0.025</th>    <th>0.975]</th>  \n",
              "</tr>\n",
              "<tr>\n",
              "  <th>ar.L1</th>   <td>   -0.9182</td> <td>    2.122</td> <td>   -0.433</td> <td> 0.665</td> <td>   -5.078</td> <td>    3.242</td>\n",
              "</tr>\n",
              "<tr>\n",
              "  <th>ar.L2</th>   <td>   -0.8937</td> <td>    2.205</td> <td>   -0.405</td> <td> 0.685</td> <td>   -5.215</td> <td>    3.428</td>\n",
              "</tr>\n",
              "<tr>\n",
              "  <th>ar.L3</th>   <td>   -0.8991</td> <td>    2.325</td> <td>   -0.387</td> <td> 0.699</td> <td>   -5.456</td> <td>    3.658</td>\n",
              "</tr>\n",
              "<tr>\n",
              "  <th>ar.L4</th>   <td>   -0.9000</td> <td>    2.345</td> <td>   -0.384</td> <td> 0.701</td> <td>   -5.496</td> <td>    3.696</td>\n",
              "</tr>\n",
              "<tr>\n",
              "  <th>ar.L5</th>   <td>   -0.8953</td> <td>    2.100</td> <td>   -0.426</td> <td> 0.670</td> <td>   -5.012</td> <td>    3.221</td>\n",
              "</tr>\n",
              "<tr>\n",
              "  <th>ar.L6</th>   <td>   -0.8820</td> <td>    1.846</td> <td>   -0.478</td> <td> 0.633</td> <td>   -4.499</td> <td>    2.735</td>\n",
              "</tr>\n",
              "<tr>\n",
              "  <th>ar.L7</th>   <td>    0.0372</td> <td>    1.731</td> <td>    0.021</td> <td> 0.983</td> <td>   -3.356</td> <td>    3.431</td>\n",
              "</tr>\n",
              "<tr>\n",
              "  <th>ma.L1</th>   <td>   -0.1039</td> <td>    0.046</td> <td>   -2.275</td> <td> 0.023</td> <td>   -0.193</td> <td>   -0.014</td>\n",
              "</tr>\n",
              "<tr>\n",
              "  <th>ma.L2</th>   <td>   -0.0518</td> <td>    0.052</td> <td>   -1.003</td> <td> 0.316</td> <td>   -0.153</td> <td>    0.049</td>\n",
              "</tr>\n",
              "<tr>\n",
              "  <th>ma.L3</th>   <td>   -0.0839</td> <td>    0.046</td> <td>   -1.842</td> <td> 0.065</td> <td>   -0.173</td> <td>    0.005</td>\n",
              "</tr>\n",
              "<tr>\n",
              "  <th>ma.L4</th>   <td>   -0.0654</td> <td>    0.041</td> <td>   -1.594</td> <td> 0.111</td> <td>   -0.146</td> <td>    0.015</td>\n",
              "</tr>\n",
              "<tr>\n",
              "  <th>ma.L5</th>   <td>   -0.0064</td> <td>    0.039</td> <td>   -0.164</td> <td> 0.870</td> <td>   -0.083</td> <td>    0.070</td>\n",
              "</tr>\n",
              "<tr>\n",
              "  <th>ma.L6</th>   <td>   -0.0505</td> <td>    0.040</td> <td>   -1.267</td> <td> 0.205</td> <td>   -0.129</td> <td>    0.028</td>\n",
              "</tr>\n",
              "<tr>\n",
              "  <th>ma.L7</th>   <td>   -0.9500</td> <td>    0.042</td> <td>  -22.784</td> <td> 0.000</td> <td>   -1.032</td> <td>   -0.868</td>\n",
              "</tr>\n",
              "<tr>\n",
              "  <th>ar.S.L1</th> <td>   -0.9134</td> <td>    2.101</td> <td>   -0.435</td> <td> 0.664</td> <td>   -5.030</td> <td>    3.204</td>\n",
              "</tr>\n",
              "<tr>\n",
              "  <th>ar.S.L2</th> <td>   -0.9164</td> <td>    2.205</td> <td>   -0.416</td> <td> 0.678</td> <td>   -5.238</td> <td>    3.405</td>\n",
              "</tr>\n",
              "<tr>\n",
              "  <th>ar.S.L3</th> <td>   -0.8953</td> <td>    2.349</td> <td>   -0.381</td> <td> 0.703</td> <td>   -5.499</td> <td>    3.708</td>\n",
              "</tr>\n",
              "<tr>\n",
              "  <th>ar.S.L4</th> <td>   -0.8804</td> <td>    2.329</td> <td>   -0.378</td> <td> 0.705</td> <td>   -5.446</td> <td>    3.685</td>\n",
              "</tr>\n",
              "<tr>\n",
              "  <th>ar.S.L5</th> <td>   -0.9086</td> <td>    2.081</td> <td>   -0.437</td> <td> 0.662</td> <td>   -4.986</td> <td>    3.169</td>\n",
              "</tr>\n",
              "<tr>\n",
              "  <th>ar.S.L6</th> <td>   -0.8981</td> <td>    1.880</td> <td>   -0.478</td> <td> 0.633</td> <td>   -4.583</td> <td>    2.787</td>\n",
              "</tr>\n",
              "<tr>\n",
              "  <th>ar.S.L7</th> <td>    0.0585</td> <td>    1.807</td> <td>    0.032</td> <td> 0.974</td> <td>   -3.482</td> <td>    3.599</td>\n",
              "</tr>\n",
              "<tr>\n",
              "  <th>ma.S.L1</th> <td>   -0.1039</td> <td>    0.046</td> <td>   -2.274</td> <td> 0.023</td> <td>   -0.193</td> <td>   -0.014</td>\n",
              "</tr>\n",
              "<tr>\n",
              "  <th>ma.S.L2</th> <td>   -0.0518</td> <td>    0.052</td> <td>   -1.003</td> <td> 0.316</td> <td>   -0.153</td> <td>    0.049</td>\n",
              "</tr>\n",
              "<tr>\n",
              "  <th>ma.S.L3</th> <td>   -0.0839</td> <td>    0.046</td> <td>   -1.842</td> <td> 0.065</td> <td>   -0.173</td> <td>    0.005</td>\n",
              "</tr>\n",
              "<tr>\n",
              "  <th>ma.S.L4</th> <td>   -0.0654</td> <td>    0.041</td> <td>   -1.594</td> <td> 0.111</td> <td>   -0.146</td> <td>    0.015</td>\n",
              "</tr>\n",
              "<tr>\n",
              "  <th>ma.S.L5</th> <td>   -0.0064</td> <td>    0.039</td> <td>   -0.164</td> <td> 0.870</td> <td>   -0.083</td> <td>    0.070</td>\n",
              "</tr>\n",
              "<tr>\n",
              "  <th>ma.S.L6</th> <td>   -0.0505</td> <td>    0.040</td> <td>   -1.267</td> <td> 0.205</td> <td>   -0.129</td> <td>    0.028</td>\n",
              "</tr>\n",
              "<tr>\n",
              "  <th>ma.S.L7</th> <td>   -0.9500</td> <td>    0.042</td> <td>  -22.784</td> <td> 0.000</td> <td>   -1.032</td> <td>   -0.868</td>\n",
              "</tr>\n",
              "<tr>\n",
              "  <th>sigma2</th>  <td>   21.8841</td> <td>    1.166</td> <td>   18.762</td> <td> 0.000</td> <td>   19.598</td> <td>   24.170</td>\n",
              "</tr>\n",
              "</table>\n",
              "<table class=\"simpletable\">\n",
              "<tr>\n",
              "  <th>Ljung-Box (Q):</th>          <td>45.25</td> <th>  Jarque-Bera (JB):  </th> <td>4.28</td>\n",
              "</tr>\n",
              "<tr>\n",
              "  <th>Prob(Q):</th>                <td>0.26</td>  <th>  Prob(JB):          </th> <td>0.12</td>\n",
              "</tr>\n",
              "<tr>\n",
              "  <th>Heteroskedasticity (H):</th> <td>1.04</td>  <th>  Skew:              </th> <td>0.12</td>\n",
              "</tr>\n",
              "<tr>\n",
              "  <th>Prob(H) (two-sided):</th>    <td>0.71</td>  <th>  Kurtosis:          </th> <td>3.19</td>\n",
              "</tr>\n",
              "</table><br/><br/>Warnings:<br/>[1] Covariance matrix calculated using the outer product of gradients (complex-step).<br/>[2] Covariance matrix is singular or near-singular, with condition number 4.31e+21. Standard errors may be unstable."
            ]
          },
          "metadata": {},
          "execution_count": 696
        }
      ]
    },
    {
      "cell_type": "code",
      "source": [
        "res = sarima.resid\n",
        "fig,ax = plt.subplots(2,1,figsize=(15,8))\n",
        "fig = sm.graphics.tsa.plot_acf(res, lags=50, ax=ax[0])\n",
        "fig = sm.graphics.tsa.plot_pacf(res, lags=50, ax=ax[1])\n",
        "plt.show()"
      ],
      "metadata": {
        "colab": {
          "base_uri": "https://localhost:8080/",
          "height": 0
        },
        "id": "ADyJWSuQ9kNi",
        "outputId": "358bc02e-1b0b-4552-f5fa-c5af56688a1f"
      },
      "execution_count": 697,
      "outputs": [
        {
          "output_type": "display_data",
          "data": {
            "text/plain": [
              "<Figure size 1080x576 with 2 Axes>"
            ],
            "image/png": "[encoded data removed]"
          },
          "metadata": {
            "needs_background": "light"
          }
        }
      ]
    },
    {
      "cell_type": "code",
      "source": [
        "from sklearn.metrics import mean_squared_error\n",
        "pred = sarima.predict(train_end,test_end)[1:]\n",
        "print('SARIMA model MSE:{}'.format(mean_squared_error(test_data,pred)))"
      ],
      "metadata": {
        "colab": {
          "base_uri": "https://localhost:8080/"
        },
        "id": "aw1yE8E19pr9",
        "outputId": "709d3708-01ff-4f29-f161-7c9d274bbd2d"
      },
      "execution_count": 698,
      "outputs": [
        {
          "output_type": "stream",
          "name": "stdout",
          "text": [
            "SARIMA model MSE:23.873541605248114\n"
          ]
        }
      ]
    },
    {
      "cell_type": "code",
      "source": [
        "pd.DataFrame({'test':test_data,'pred':pred}).plot();\n",
        "plt.show()"
      ],
      "metadata": {
        "colab": {
          "base_uri": "https://localhost:8080/",
          "height": 0
        },
        "id": "wwSpjdsN9xgE",
        "outputId": "dbf9b9f2-8837-4b9d-fc89-76e72856d8ff"
      },
      "execution_count": 699,
      "outputs": [
        {
          "output_type": "display_data",
          "data": {
            "text/plain": [
              "<Figure size 432x288 with 1 Axes>"
            ],
            "image/png": "[encoded data removed]"
          },
          "metadata": {
            "needs_background": "light"
          }
        }
      ]
    },
    {
      "cell_type": "markdown",
      "source": [
        "##Prophet"
      ],
      "metadata": {
        "id": "EeKfWZYk-745"
      }
    },
    {
      "cell_type": "code",
      "source": [
        "m = Prophet()\n",
        "\n",
        "train_data_2 = train_data.reset_index(level=0)\n",
        "train_data_2.columns = ['ds', 'y']\n",
        "\n",
        "test_data_2 = test_data.reset_index(level=0)\n",
        "test_data_2.columns = ['ds', 'y']\n",
        "\n",
        "m.fit(train_data_2)\n",
        "forecast = m.predict(test_data_2)\n",
        "fig1 = m.plot(forecast)"
      ],
      "metadata": {
        "colab": {
          "base_uri": "https://localhost:8080/",
          "height": 458
        },
        "id": "THTP_2Go_FmW",
        "outputId": "0b4e3a3c-c7f1-4c76-efff-bb3671766d1f"
      },
      "execution_count": 700,
      "outputs": [
        {
          "output_type": "stream",
          "name": "stderr",
          "text": [
            "INFO:fbprophet:Disabling daily seasonality. Run prophet with daily_seasonality=True to override this.\n"
          ]
        },
        {
          "output_type": "display_data",
          "data": {
            "text/plain": [
              "<Figure size 720x432 with 1 Axes>"
            ],
            "image/png": "[encoded data removed]"
          },
          "metadata": {}
        }
      ]
    },
    {
      "cell_type": "code",
      "source": [
        "m.plot_components(forecast);"
      ],
      "metadata": {
        "colab": {
          "base_uri": "https://localhost:8080/",
          "height": 657
        },
        "id": "u4RhOZ_6BX5G",
        "outputId": "3f302239-ab56-4e00-9d1a-0f5947e3f011"
      },
      "execution_count": 701,
      "outputs": [
        {
          "output_type": "display_data",
          "data": {
            "text/plain": [
              "<Figure size 648x648 with 3 Axes>"
            ],
            "image/png": "[encoded data removed]"
          },
          "metadata": {}
        }
      ]
    },
    {
      "cell_type": "code",
      "source": [
        "test_data_2"
      ],
      "metadata": {
        "colab": {
          "base_uri": "https://localhost:8080/",
          "height": 424
        },
        "id": "AJDimPBTEtg0",
        "outputId": "969dbba2-241f-4253-fdea-1ff9a931def7"
      },
      "execution_count": 702,
      "outputs": [
        {
          "output_type": "execute_result",
          "data": {
            "text/plain": [
              "            ds     y\n",
              "0   2017-10-01  21.0\n",
              "1   2017-10-02  12.0\n",
              "2   2017-10-03  18.0\n",
              "3   2017-10-04  15.0\n",
              "4   2017-10-05  20.0\n",
              "..         ...   ...\n",
              "87  2017-12-27  14.0\n",
              "88  2017-12-28  19.0\n",
              "89  2017-12-29  15.0\n",
              "90  2017-12-30  27.0\n",
              "91  2017-12-31  23.0\n",
              "\n",
              "[92 rows x 2 columns]"
            ],
            "text/html": [
              "\n",
              "  <div id=\"df-b308bdbe-903b-4310-b973-a92b72bc0e40\">\n",
              "    <div class=\"colab-df-container\">\n",
              "      <div>\n",
              "<style scoped>\n",
              "    .dataframe tbody tr th:only-of-type {\n",
              "        vertical-align: middle;\n",
              "    }\n",
              "\n",
              "    .dataframe tbody tr th {\n",
              "        vertical-align: top;\n",
              "    }\n",
              "\n",
              "    .dataframe thead th {\n",
              "        text-align: right;\n",
              "    }\n",
              "</style>\n",
              "<table border=\"1\" class=\"dataframe\">\n",
              "  <thead>\n",
              "    <tr style=\"text-align: right;\">\n",
              "      <th></th>\n",
              "      <th>ds</th>\n",
              "      <th>y</th>\n",
              "    </tr>\n",
              "  </thead>\n",
              "  <tbody>\n",
              "    <tr>\n",
              "      <th>0</th>\n",
              "      <td>2017-10-01</td>\n",
              "      <td>21.0</td>\n",
              "    </tr>\n",
              "    <tr>\n",
              "      <th>1</th>\n",
              "      <td>2017-10-02</td>\n",
              "      <td>12.0</td>\n",
              "    </tr>\n",
              "    <tr>\n",
              "      <th>2</th>\n",
              "      <td>2017-10-03</td>\n",
              "      <td>18.0</td>\n",
              "    </tr>\n",
              "    <tr>\n",
              "      <th>3</th>\n",
              "      <td>2017-10-04</td>\n",
              "      <td>15.0</td>\n",
              "    </tr>\n",
              "    <tr>\n",
              "      <th>4</th>\n",
              "      <td>2017-10-05</td>\n",
              "      <td>20.0</td>\n",
              "    </tr>\n",
              "    <tr>\n",
              "      <th>...</th>\n",
              "      <td>...</td>\n",
              "      <td>...</td>\n",
              "    </tr>\n",
              "    <tr>\n",
              "      <th>87</th>\n",
              "      <td>2017-12-27</td>\n",
              "      <td>14.0</td>\n",
              "    </tr>\n",
              "    <tr>\n",
              "      <th>88</th>\n",
              "      <td>2017-12-28</td>\n",
              "      <td>19.0</td>\n",
              "    </tr>\n",
              "    <tr>\n",
              "      <th>89</th>\n",
              "      <td>2017-12-29</td>\n",
              "      <td>15.0</td>\n",
              "    </tr>\n",
              "    <tr>\n",
              "      <th>90</th>\n",
              "      <td>2017-12-30</td>\n",
              "      <td>27.0</td>\n",
              "    </tr>\n",
              "    <tr>\n",
              "      <th>91</th>\n",
              "      <td>2017-12-31</td>\n",
              "      <td>23.0</td>\n",
              "    </tr>\n",
              "  </tbody>\n",
              "</table>\n",
              "<p>92 rows × 2 columns</p>\n",
              "</div>\n",
              "      <button class=\"colab-df-convert\" onclick=\"convertToInteractive('df-b308bdbe-903b-4310-b973-a92b72bc0e40')\"\n",
              "              title=\"Convert this dataframe to an interactive table.\"\n",
              "              style=\"display:none;\">\n",
              "        \n",
              "  <svg xmlns=\"http://www.w3.org/2000/svg\" height=\"24px\"viewBox=\"0 0 24 24\"\n",
              "       width=\"24px\">\n",
              "    <path d=\"M0 0h24v24H0V0z\" fill=\"none\"/>\n",
              "    <path d=\"M18.56 5.44l.94 2.06.94-2.06 2.06-.94-2.06-.94-.94-2.06-.94 2.06-2.06.94zm-11 1L8.5 8.5l.94-2.06 2.06-.94-2.06-.94L8.5 2.5l-.94 2.06-2.06.94zm10 10l.94 2.06.94-2.06 2.06-.94-2.06-.94-.94-2.06-.94 2.06-2.06.94z\"/><path d=\"M17.41 7.96l-1.37-1.37c-.4-.4-.92-.59-1.43-.59-.52 0-1.04.2-1.43.59L10.3 9.45l-7.72 7.72c-.78.78-.78 2.05 0 2.83L4 21.41c.39.39.9.59 1.41.59.51 0 1.02-.2 1.41-.59l7.78-7.78 2.81-2.81c.8-.78.8-2.07 0-2.86zM5.41 20L4 18.59l7.72-7.72 1.47 1.35L5.41 20z\"/>\n",
              "  </svg>\n",
              "      </button>\n",
              "      \n",
              "  <style>\n",
              "    .colab-df-container {\n",
              "      display:flex;\n",
              "      flex-wrap:wrap;\n",
              "      gap: 12px;\n",
              "    }\n",
              "\n",
              "    .colab-df-convert {\n",
              "      background-color: #E8F0FE;\n",
              "      border: none;\n",
              "      border-radius: 50%;\n",
              "      cursor: pointer;\n",
              "      display: none;\n",
              "      fill: #1967D2;\n",
              "      height: 32px;\n",
              "      padding: 0 0 0 0;\n",
              "      width: 32px;\n",
              "    }\n",
              "\n",
              "    .colab-df-convert:hover {\n",
              "      background-color: #E2EBFA;\n",
              "      box-shadow: 0px 1px 2px rgba(60, 64, 67, 0.3), 0px 1px 3px 1px rgba(60, 64, 67, 0.15);\n",
              "      fill: #174EA6;\n",
              "    }\n",
              "\n",
              "    [theme=dark] .colab-df-convert {\n",
              "      background-color: #3B4455;\n",
              "      fill: #D2E3FC;\n",
              "    }\n",
              "\n",
              "    [theme=dark] .colab-df-convert:hover {\n",
              "      background-color: #434B5C;\n",
              "      box-shadow: 0px 1px 3px 1px rgba(0, 0, 0, 0.15);\n",
              "      filter: drop-shadow(0px 1px 2px rgba(0, 0, 0, 0.3));\n",
              "      fill: #FFFFFF;\n",
              "    }\n",
              "  </style>\n",
              "\n",
              "      <script>\n",
              "        const buttonEl =\n",
              "          document.querySelector('#df-b308bdbe-903b-4310-b973-a92b72bc0e40 button.colab-df-convert');\n",
              "        buttonEl.style.display =\n",
              "          google.colab.kernel.accessAllowed ? 'block' : 'none';\n",
              "\n",
              "        async function convertToInteractive(key) {\n",
              "          const element = document.querySelector('#df-b308bdbe-903b-4310-b973-a92b72bc0e40');\n",
              "          const dataTable =\n",
              "            await google.colab.kernel.invokeFunction('convertToInteractive',\n",
              "                                                     [key], {});\n",
              "          if (!dataTable) return;\n",
              "\n",
              "          const docLinkHtml = 'Like what you see? Visit the ' +\n",
              "            '<a target=\"_blank\" href=https://colab.research.google.com/notebooks/data_table.ipynb>data table notebook</a>'\n",
              "            + ' to learn more about interactive tables.';\n",
              "          element.innerHTML = '';\n",
              "          dataTable['output_type'] = 'display_data';\n",
              "          await google.colab.output.renderOutput(dataTable, element);\n",
              "          const docLink = document.createElement('div');\n",
              "          docLink.innerHTML = docLinkHtml;\n",
              "          element.appendChild(docLink);\n",
              "        }\n",
              "      </script>\n",
              "    </div>\n",
              "  </div>\n",
              "  "
            ]
          },
          "metadata": {},
          "execution_count": 702
        }
      ]
    },
    {
      "cell_type": "code",
      "source": [
        "from sklearn.metrics import mean_squared_error, r2_score, mean_absolute_error\n",
        "\n",
        "#diagnostic\n",
        "metric_df = pd.concat([forecast, test_data_2], axis=1)[[\"y\", \"yhat\"]]\n",
        "metric_df.dropna(inplace=True)\n",
        "\n",
        "metric_df"
      ],
      "metadata": {
        "colab": {
          "base_uri": "https://localhost:8080/",
          "height": 424
        },
        "id": "W8UIQ_4uCVAt",
        "outputId": "aea289c6-3419-4d9c-f94b-4e9c28b98491"
      },
      "execution_count": 703,
      "outputs": [
        {
          "output_type": "execute_result",
          "data": {
            "text/plain": [
              "       y       yhat\n",
              "0   21.0  27.283330\n",
              "1   12.0  18.626044\n",
              "2   18.0  21.544044\n",
              "3   15.0  22.251998\n",
              "4   20.0  22.955942\n",
              "..   ...        ...\n",
              "87  14.0  16.115511\n",
              "88  19.0  16.871986\n",
              "89  15.0  18.699719\n",
              "90  27.0  20.582161\n",
              "91  23.0  21.535387\n",
              "\n",
              "[92 rows x 2 columns]"
            ],
            "text/html": [
              "\n",
              "  <div id=\"df-e627d209-9533-4355-9abb-e67f150d8812\">\n",
              "    <div class=\"colab-df-container\">\n",
              "      <div>\n",
              "<style scoped>\n",
              "    .dataframe tbody tr th:only-of-type {\n",
              "        vertical-align: middle;\n",
              "    }\n",
              "\n",
              "    .dataframe tbody tr th {\n",
              "        vertical-align: top;\n",
              "    }\n",
              "\n",
              "    .dataframe thead th {\n",
              "        text-align: right;\n",
              "    }\n",
              "</style>\n",
              "<table border=\"1\" class=\"dataframe\">\n",
              "  <thead>\n",
              "    <tr style=\"text-align: right;\">\n",
              "      <th></th>\n",
              "      <th>y</th>\n",
              "      <th>yhat</th>\n",
              "    </tr>\n",
              "  </thead>\n",
              "  <tbody>\n",
              "    <tr>\n",
              "      <th>0</th>\n",
              "      <td>21.0</td>\n",
              "      <td>27.283330</td>\n",
              "    </tr>\n",
              "    <tr>\n",
              "      <th>1</th>\n",
              "      <td>12.0</td>\n",
              "      <td>18.626044</td>\n",
              "    </tr>\n",
              "    <tr>\n",
              "      <th>2</th>\n",
              "      <td>18.0</td>\n",
              "      <td>21.544044</td>\n",
              "    </tr>\n",
              "    <tr>\n",
              "      <th>3</th>\n",
              "      <td>15.0</td>\n",
              "      <td>22.251998</td>\n",
              "    </tr>\n",
              "    <tr>\n",
              "      <th>4</th>\n",
              "      <td>20.0</td>\n",
              "      <td>22.955942</td>\n",
              "    </tr>\n",
              "    <tr>\n",
              "      <th>...</th>\n",
              "      <td>...</td>\n",
              "      <td>...</td>\n",
              "    </tr>\n",
              "    <tr>\n",
              "      <th>87</th>\n",
              "      <td>14.0</td>\n",
              "      <td>16.115511</td>\n",
              "    </tr>\n",
              "    <tr>\n",
              "      <th>88</th>\n",
              "      <td>19.0</td>\n",
              "      <td>16.871986</td>\n",
              "    </tr>\n",
              "    <tr>\n",
              "      <th>89</th>\n",
              "      <td>15.0</td>\n",
              "      <td>18.699719</td>\n",
              "    </tr>\n",
              "    <tr>\n",
              "      <th>90</th>\n",
              "      <td>27.0</td>\n",
              "      <td>20.582161</td>\n",
              "    </tr>\n",
              "    <tr>\n",
              "      <th>91</th>\n",
              "      <td>23.0</td>\n",
              "      <td>21.535387</td>\n",
              "    </tr>\n",
              "  </tbody>\n",
              "</table>\n",
              "<p>92 rows × 2 columns</p>\n",
              "</div>\n",
              "      <button class=\"colab-df-convert\" onclick=\"convertToInteractive('df-e627d209-9533-4355-9abb-e67f150d8812')\"\n",
              "              title=\"Convert this dataframe to an interactive table.\"\n",
              "              style=\"display:none;\">\n",
              "        \n",
              "  <svg xmlns=\"http://www.w3.org/2000/svg\" height=\"24px\"viewBox=\"0 0 24 24\"\n",
              "       width=\"24px\">\n",
              "    <path d=\"M0 0h24v24H0V0z\" fill=\"none\"/>\n",
              "    <path d=\"M18.56 5.44l.94 2.06.94-2.06 2.06-.94-2.06-.94-.94-2.06-.94 2.06-2.06.94zm-11 1L8.5 8.5l.94-2.06 2.06-.94-2.06-.94L8.5 2.5l-.94 2.06-2.06.94zm10 10l.94 2.06.94-2.06 2.06-.94-2.06-.94-.94-2.06-.94 2.06-2.06.94z\"/><path d=\"M17.41 7.96l-1.37-1.37c-.4-.4-.92-.59-1.43-.59-.52 0-1.04.2-1.43.59L10.3 9.45l-7.72 7.72c-.78.78-.78 2.05 0 2.83L4 21.41c.39.39.9.59 1.41.59.51 0 1.02-.2 1.41-.59l7.78-7.78 2.81-2.81c.8-.78.8-2.07 0-2.86zM5.41 20L4 18.59l7.72-7.72 1.47 1.35L5.41 20z\"/>\n",
              "  </svg>\n",
              "      </button>\n",
              "      \n",
              "  <style>\n",
              "    .colab-df-container {\n",
              "      display:flex;\n",
              "      flex-wrap:wrap;\n",
              "      gap: 12px;\n",
              "    }\n",
              "\n",
              "    .colab-df-convert {\n",
              "      background-color: #E8F0FE;\n",
              "      border: none;\n",
              "      border-radius: 50%;\n",
              "      cursor: pointer;\n",
              "      display: none;\n",
              "      fill: #1967D2;\n",
              "      height: 32px;\n",
              "      padding: 0 0 0 0;\n",
              "      width: 32px;\n",
              "    }\n",
              "\n",
              "    .colab-df-convert:hover {\n",
              "      background-color: #E2EBFA;\n",
              "      box-shadow: 0px 1px 2px rgba(60, 64, 67, 0.3), 0px 1px 3px 1px rgba(60, 64, 67, 0.15);\n",
              "      fill: #174EA6;\n",
              "    }\n",
              "\n",
              "    [theme=dark] .colab-df-convert {\n",
              "      background-color: #3B4455;\n",
              "      fill: #D2E3FC;\n",
              "    }\n",
              "\n",
              "    [theme=dark] .colab-df-convert:hover {\n",
              "      background-color: #434B5C;\n",
              "      box-shadow: 0px 1px 3px 1px rgba(0, 0, 0, 0.15);\n",
              "      filter: drop-shadow(0px 1px 2px rgba(0, 0, 0, 0.3));\n",
              "      fill: #FFFFFF;\n",
              "    }\n",
              "  </style>\n",
              "\n",
              "      <script>\n",
              "        const buttonEl =\n",
              "          document.querySelector('#df-e627d209-9533-4355-9abb-e67f150d8812 button.colab-df-convert');\n",
              "        buttonEl.style.display =\n",
              "          google.colab.kernel.accessAllowed ? 'block' : 'none';\n",
              "\n",
              "        async function convertToInteractive(key) {\n",
              "          const element = document.querySelector('#df-e627d209-9533-4355-9abb-e67f150d8812');\n",
              "          const dataTable =\n",
              "            await google.colab.kernel.invokeFunction('convertToInteractive',\n",
              "                                                     [key], {});\n",
              "          if (!dataTable) return;\n",
              "\n",
              "          const docLinkHtml = 'Like what you see? Visit the ' +\n",
              "            '<a target=\"_blank\" href=https://colab.research.google.com/notebooks/data_table.ipynb>data table notebook</a>'\n",
              "            + ' to learn more about interactive tables.';\n",
              "          element.innerHTML = '';\n",
              "          dataTable['output_type'] = 'display_data';\n",
              "          await google.colab.output.renderOutput(dataTable, element);\n",
              "          const docLink = document.createElement('div');\n",
              "          docLink.innerHTML = docLinkHtml;\n",
              "          element.appendChild(docLink);\n",
              "        }\n",
              "      </script>\n",
              "    </div>\n",
              "  </div>\n",
              "  "
            ]
          },
          "metadata": {},
          "execution_count": 703
        }
      ]
    },
    {
      "cell_type": "code",
      "source": [
        "#R^2\n",
        "r2_score(metric_df.y, metric_df.yhat)"
      ],
      "metadata": {
        "colab": {
          "base_uri": "https://localhost:8080/"
        },
        "id": "YE7u8fOcguAC",
        "outputId": "e31510ce-9bf7-4c1d-f402-7a95c1288309"
      },
      "execution_count": 704,
      "outputs": [
        {
          "output_type": "execute_result",
          "data": {
            "text/plain": [
              "0.3538556464901601"
            ]
          },
          "metadata": {},
          "execution_count": 704
        }
      ]
    },
    {
      "cell_type": "code",
      "source": [
        "#MSE\n",
        "mean_squared_error(metric_df.y, metric_df.yhat)"
      ],
      "metadata": {
        "colab": {
          "base_uri": "https://localhost:8080/"
        },
        "id": "nCxGR3pXgxTf",
        "outputId": "03d3213b-a692-493d-f597-4b2209b50e0d"
      },
      "execution_count": 705,
      "outputs": [
        {
          "output_type": "execute_result",
          "data": {
            "text/plain": [
              "21.914172019633874"
            ]
          },
          "metadata": {},
          "execution_count": 705
        }
      ]
    },
    {
      "cell_type": "code",
      "source": [
        "#MAE\n",
        "mean_absolute_error(metric_df.y, metric_df.yhat)"
      ],
      "metadata": {
        "colab": {
          "base_uri": "https://localhost:8080/"
        },
        "id": "ctgLyHt5g031",
        "outputId": "e2e42a9b-febd-4406-e0bd-ae567d92aab4"
      },
      "execution_count": 706,
      "outputs": [
        {
          "output_type": "execute_result",
          "data": {
            "text/plain": [
              "3.873841185975743"
            ]
          },
          "metadata": {},
          "execution_count": 706
        }
      ]
    },
    {
      "cell_type": "markdown",
      "source": [
        "## Multilayer perceptron"
      ],
      "metadata": {
        "id": "VVYHFhdxvSnw"
      }
    },
    {
      "cell_type": "code",
      "source": [
        "train['date'] = train['date'].apply(lambda x: dt.datetime.strptime(x, '%Y-%m-%d'))\n",
        "test['date'] = test['date'].apply(lambda x: dt.datetime.strptime(x, '%Y-%m-%d'))"
      ],
      "metadata": {
        "id": "Y8qCwzAu-Zje"
      },
      "execution_count": 707,
      "outputs": []
    },
    {
      "cell_type": "code",
      "source": [
        "train['day'] = train['date'].dt.day\n",
        "train['month'] = train['date'].dt.month\n",
        "train['year'] = train['date'].dt.year\n",
        "\n",
        "test['day'] = test['date'].dt.day\n",
        "test['month'] = test['date'].dt.month\n",
        "test['year'] = test['date'].dt.year"
      ],
      "metadata": {
        "id": "7qiG-XNByJiu"
      },
      "execution_count": 708,
      "outputs": []
    },
    {
      "cell_type": "code",
      "source": [
        "train"
      ],
      "metadata": {
        "colab": {
          "base_uri": "https://localhost:8080/",
          "height": 424
        },
        "id": "CmQJ-ItdCUpy",
        "outputId": "783ab69a-162a-4748-a4fd-f1787c43ec21"
      },
      "execution_count": 709,
      "outputs": [
        {
          "output_type": "execute_result",
          "data": {
            "text/plain": [
              "             date  store  item  sales  day  month  year\n",
              "0      2013-01-01      1     1     13    1      1  2013\n",
              "1      2013-01-02      1     1     11    2      1  2013\n",
              "2      2013-01-03      1     1     14    3      1  2013\n",
              "3      2013-01-04      1     1     13    4      1  2013\n",
              "4      2013-01-05      1     1     10    5      1  2013\n",
              "...           ...    ...   ...    ...  ...    ...   ...\n",
              "912995 2017-12-27     10    50     63   27     12  2017\n",
              "912996 2017-12-28     10    50     59   28     12  2017\n",
              "912997 2017-12-29     10    50     74   29     12  2017\n",
              "912998 2017-12-30     10    50     62   30     12  2017\n",
              "912999 2017-12-31     10    50     82   31     12  2017\n",
              "\n",
              "[913000 rows x 7 columns]"
            ],
            "text/html": [
              "\n",
              "  <div id=\"df-16f0d10c-a96b-4605-bc18-47ac1e79c490\">\n",
              "    <div class=\"colab-df-container\">\n",
              "      <div>\n",
              "<style scoped>\n",
              "    .dataframe tbody tr th:only-of-type {\n",
              "        vertical-align: middle;\n",
              "    }\n",
              "\n",
              "    .dataframe tbody tr th {\n",
              "        vertical-align: top;\n",
              "    }\n",
              "\n",
              "    .dataframe thead th {\n",
              "        text-align: right;\n",
              "    }\n",
              "</style>\n",
              "<table border=\"1\" class=\"dataframe\">\n",
              "  <thead>\n",
              "    <tr style=\"text-align: right;\">\n",
              "      <th></th>\n",
              "      <th>date</th>\n",
              "      <th>store</th>\n",
              "      <th>item</th>\n",
              "      <th>sales</th>\n",
              "      <th>day</th>\n",
              "      <th>month</th>\n",
              "      <th>year</th>\n",
              "    </tr>\n",
              "  </thead>\n",
              "  <tbody>\n",
              "    <tr>\n",
              "      <th>0</th>\n",
              "      <td>2013-01-01</td>\n",
              "      <td>1</td>\n",
              "      <td>1</td>\n",
              "      <td>13</td>\n",
              "      <td>1</td>\n",
              "      <td>1</td>\n",
              "      <td>2013</td>\n",
              "    </tr>\n",
              "    <tr>\n",
              "      <th>1</th>\n",
              "      <td>2013-01-02</td>\n",
              "      <td>1</td>\n",
              "      <td>1</td>\n",
              "      <td>11</td>\n",
              "      <td>2</td>\n",
              "      <td>1</td>\n",
              "      <td>2013</td>\n",
              "    </tr>\n",
              "    <tr>\n",
              "      <th>2</th>\n",
              "      <td>2013-01-03</td>\n",
              "      <td>1</td>\n",
              "      <td>1</td>\n",
              "      <td>14</td>\n",
              "      <td>3</td>\n",
              "      <td>1</td>\n",
              "      <td>2013</td>\n",
              "    </tr>\n",
              "    <tr>\n",
              "      <th>3</th>\n",
              "      <td>2013-01-04</td>\n",
              "      <td>1</td>\n",
              "      <td>1</td>\n",
              "      <td>13</td>\n",
              "      <td>4</td>\n",
              "      <td>1</td>\n",
              "      <td>2013</td>\n",
              "    </tr>\n",
              "    <tr>\n",
              "      <th>4</th>\n",
              "      <td>2013-01-05</td>\n",
              "      <td>1</td>\n",
              "      <td>1</td>\n",
              "      <td>10</td>\n",
              "      <td>5</td>\n",
              "      <td>1</td>\n",
              "      <td>2013</td>\n",
              "    </tr>\n",
              "    <tr>\n",
              "      <th>...</th>\n",
              "      <td>...</td>\n",
              "      <td>...</td>\n",
              "      <td>...</td>\n",
              "      <td>...</td>\n",
              "      <td>...</td>\n",
              "      <td>...</td>\n",
              "      <td>...</td>\n",
              "    </tr>\n",
              "    <tr>\n",
              "      <th>912995</th>\n",
              "      <td>2017-12-27</td>\n",
              "      <td>10</td>\n",
              "      <td>50</td>\n",
              "      <td>63</td>\n",
              "      <td>27</td>\n",
              "      <td>12</td>\n",
              "      <td>2017</td>\n",
              "    </tr>\n",
              "    <tr>\n",
              "      <th>912996</th>\n",
              "      <td>2017-12-28</td>\n",
              "      <td>10</td>\n",
              "      <td>50</td>\n",
              "      <td>59</td>\n",
              "      <td>28</td>\n",
              "      <td>12</td>\n",
              "      <td>2017</td>\n",
              "    </tr>\n",
              "    <tr>\n",
              "      <th>912997</th>\n",
              "      <td>2017-12-29</td>\n",
              "      <td>10</td>\n",
              "      <td>50</td>\n",
              "      <td>74</td>\n",
              "      <td>29</td>\n",
              "      <td>12</td>\n",
              "      <td>2017</td>\n",
              "    </tr>\n",
              "    <tr>\n",
              "      <th>912998</th>\n",
              "      <td>2017-12-30</td>\n",
              "      <td>10</td>\n",
              "      <td>50</td>\n",
              "      <td>62</td>\n",
              "      <td>30</td>\n",
              "      <td>12</td>\n",
              "      <td>2017</td>\n",
              "    </tr>\n",
              "    <tr>\n",
              "      <th>912999</th>\n",
              "      <td>2017-12-31</td>\n",
              "      <td>10</td>\n",
              "      <td>50</td>\n",
              "      <td>82</td>\n",
              "      <td>31</td>\n",
              "      <td>12</td>\n",
              "      <td>2017</td>\n",
              "    </tr>\n",
              "  </tbody>\n",
              "</table>\n",
              "<p>913000 rows × 7 columns</p>\n",
              "</div>\n",
              "      <button class=\"colab-df-convert\" onclick=\"convertToInteractive('df-16f0d10c-a96b-4605-bc18-47ac1e79c490')\"\n",
              "              title=\"Convert this dataframe to an interactive table.\"\n",
              "              style=\"display:none;\">\n",
              "        \n",
              "  <svg xmlns=\"http://www.w3.org/2000/svg\" height=\"24px\"viewBox=\"0 0 24 24\"\n",
              "       width=\"24px\">\n",
              "    <path d=\"M0 0h24v24H0V0z\" fill=\"none\"/>\n",
              "    <path d=\"M18.56 5.44l.94 2.06.94-2.06 2.06-.94-2.06-.94-.94-2.06-.94 2.06-2.06.94zm-11 1L8.5 8.5l.94-2.06 2.06-.94-2.06-.94L8.5 2.5l-.94 2.06-2.06.94zm10 10l.94 2.06.94-2.06 2.06-.94-2.06-.94-.94-2.06-.94 2.06-2.06.94z\"/><path d=\"M17.41 7.96l-1.37-1.37c-.4-.4-.92-.59-1.43-.59-.52 0-1.04.2-1.43.59L10.3 9.45l-7.72 7.72c-.78.78-.78 2.05 0 2.83L4 21.41c.39.39.9.59 1.41.59.51 0 1.02-.2 1.41-.59l7.78-7.78 2.81-2.81c.8-.78.8-2.07 0-2.86zM5.41 20L4 18.59l7.72-7.72 1.47 1.35L5.41 20z\"/>\n",
              "  </svg>\n",
              "      </button>\n",
              "      \n",
              "  <style>\n",
              "    .colab-df-container {\n",
              "      display:flex;\n",
              "      flex-wrap:wrap;\n",
              "      gap: 12px;\n",
              "    }\n",
              "\n",
              "    .colab-df-convert {\n",
              "      background-color: #E8F0FE;\n",
              "      border: none;\n",
              "      border-radius: 50%;\n",
              "      cursor: pointer;\n",
              "      display: none;\n",
              "      fill: #1967D2;\n",
              "      height: 32px;\n",
              "      padding: 0 0 0 0;\n",
              "      width: 32px;\n",
              "    }\n",
              "\n",
              "    .colab-df-convert:hover {\n",
              "      background-color: #E2EBFA;\n",
              "      box-shadow: 0px 1px 2px rgba(60, 64, 67, 0.3), 0px 1px 3px 1px rgba(60, 64, 67, 0.15);\n",
              "      fill: #174EA6;\n",
              "    }\n",
              "\n",
              "    [theme=dark] .colab-df-convert {\n",
              "      background-color: #3B4455;\n",
              "      fill: #D2E3FC;\n",
              "    }\n",
              "\n",
              "    [theme=dark] .colab-df-convert:hover {\n",
              "      background-color: #434B5C;\n",
              "      box-shadow: 0px 1px 3px 1px rgba(0, 0, 0, 0.15);\n",
              "      filter: drop-shadow(0px 1px 2px rgba(0, 0, 0, 0.3));\n",
              "      fill: #FFFFFF;\n",
              "    }\n",
              "  </style>\n",
              "\n",
              "      <script>\n",
              "        const buttonEl =\n",
              "          document.querySelector('#df-16f0d10c-a96b-4605-bc18-47ac1e79c490 button.colab-df-convert');\n",
              "        buttonEl.style.display =\n",
              "          google.colab.kernel.accessAllowed ? 'block' : 'none';\n",
              "\n",
              "        async function convertToInteractive(key) {\n",
              "          const element = document.querySelector('#df-16f0d10c-a96b-4605-bc18-47ac1e79c490');\n",
              "          const dataTable =\n",
              "            await google.colab.kernel.invokeFunction('convertToInteractive',\n",
              "                                                     [key], {});\n",
              "          if (!dataTable) return;\n",
              "\n",
              "          const docLinkHtml = 'Like what you see? Visit the ' +\n",
              "            '<a target=\"_blank\" href=https://colab.research.google.com/notebooks/data_table.ipynb>data table notebook</a>'\n",
              "            + ' to learn more about interactive tables.';\n",
              "          element.innerHTML = '';\n",
              "          dataTable['output_type'] = 'display_data';\n",
              "          await google.colab.output.renderOutput(dataTable, element);\n",
              "          const docLink = document.createElement('div');\n",
              "          docLink.innerHTML = docLinkHtml;\n",
              "          element.appendChild(docLink);\n",
              "        }\n",
              "      </script>\n",
              "    </div>\n",
              "  </div>\n",
              "  "
            ]
          },
          "metadata": {},
          "execution_count": 709
        }
      ]
    },
    {
      "cell_type": "code",
      "source": [
        "epochs = 40\n",
        "batch = 256\n",
        "lr = 0.0003\n",
        "adam = keras.optimizers.Adam(lr)\n",
        "\n",
        "model_mlp = Sequential()\n",
        "model_mlp.add(Dense(100, activation='relu', input_dim=train.shape[1] - 2))\n",
        "model_mlp.add(Dense(1))\n",
        "model_mlp.compile(loss='mse', optimizer=adam)\n",
        "model_mlp.summary()"
      ],
      "metadata": {
        "colab": {
          "base_uri": "https://localhost:8080/"
        },
        "id": "Z0PqGiN3vfn0",
        "outputId": "7c5546d4-eb84-4340-aa6e-ed53007234f7"
      },
      "execution_count": 710,
      "outputs": [
        {
          "output_type": "stream",
          "name": "stdout",
          "text": [
            "Model: \"sequential_6\"\n",
            "_________________________________________________________________\n",
            " Layer (type)                Output Shape              Param #   \n",
            "=================================================================\n",
            " dense_10 (Dense)            (None, 100)               600       \n",
            "                                                                 \n",
            " dense_11 (Dense)            (None, 1)                 101       \n",
            "                                                                 \n",
            "=================================================================\n",
            "Total params: 701\n",
            "Trainable params: 701\n",
            "Non-trainable params: 0\n",
            "_________________________________________________________________\n"
          ]
        }
      ]
    },
    {
      "cell_type": "code",
      "source": [
        "X_train = train[train.columns[~train.columns.isin(['sales','date'])]].astype(np.int32)\n",
        "y_train = train[\"sales\"].astype(np.int32)\n",
        "mlp = model_mlp.fit(X_train, y_train, epochs=epochs, verbose=2)"
      ],
      "metadata": {
        "colab": {
          "base_uri": "https://localhost:8080/"
        },
        "id": "jEKaZVoMygHs",
        "outputId": "985a2c5c-fac4-4748-e689-7f1ba025d6ee"
      },
      "execution_count": 711,
      "outputs": [
        {
          "output_type": "stream",
          "name": "stdout",
          "text": [
            "Epoch 1/40\n",
            "28532/28532 - 38s - loss: 798.9794 - 38s/epoch - 1ms/step\n",
            "Epoch 2/40\n",
            "28532/28532 - 40s - loss: 770.2802 - 40s/epoch - 1ms/step\n",
            "Epoch 3/40\n",
            "28532/28532 - 38s - loss: 767.3550 - 38s/epoch - 1ms/step\n",
            "Epoch 4/40\n",
            "28532/28532 - 39s - loss: 748.6496 - 39s/epoch - 1ms/step\n",
            "Epoch 5/40\n",
            "28532/28532 - 38s - loss: 697.5872 - 38s/epoch - 1ms/step\n",
            "Epoch 6/40\n",
            "28532/28532 - 38s - loss: 687.6815 - 38s/epoch - 1ms/step\n",
            "Epoch 7/40\n",
            "28532/28532 - 38s - loss: 682.5346 - 38s/epoch - 1ms/step\n",
            "Epoch 8/40\n",
            "28532/28532 - 38s - loss: 679.4740 - 38s/epoch - 1ms/step\n",
            "Epoch 9/40\n",
            "28532/28532 - 38s - loss: 676.8249 - 38s/epoch - 1ms/step\n",
            "Epoch 10/40\n",
            "28532/28532 - 38s - loss: 673.9853 - 38s/epoch - 1ms/step\n",
            "Epoch 11/40\n",
            "28532/28532 - 38s - loss: 671.8046 - 38s/epoch - 1ms/step\n",
            "Epoch 12/40\n",
            "28532/28532 - 39s - loss: 670.1091 - 39s/epoch - 1ms/step\n",
            "Epoch 13/40\n",
            "28532/28532 - 38s - loss: 668.2121 - 38s/epoch - 1ms/step\n",
            "Epoch 14/40\n",
            "28532/28532 - 38s - loss: 666.2280 - 38s/epoch - 1ms/step\n",
            "Epoch 15/40\n",
            "28532/28532 - 38s - loss: 665.0276 - 38s/epoch - 1ms/step\n",
            "Epoch 16/40\n",
            "28532/28532 - 38s - loss: 663.8013 - 38s/epoch - 1ms/step\n",
            "Epoch 17/40\n",
            "28532/28532 - 38s - loss: 662.9152 - 38s/epoch - 1ms/step\n",
            "Epoch 18/40\n",
            "28532/28532 - 39s - loss: 662.4333 - 39s/epoch - 1ms/step\n",
            "Epoch 19/40\n",
            "28532/28532 - 38s - loss: 661.6469 - 38s/epoch - 1ms/step\n",
            "Epoch 20/40\n",
            "28532/28532 - 39s - loss: 661.0926 - 39s/epoch - 1ms/step\n",
            "Epoch 21/40\n",
            "28532/28532 - 38s - loss: 660.6807 - 38s/epoch - 1ms/step\n",
            "Epoch 22/40\n",
            "28532/28532 - 38s - loss: 660.4152 - 38s/epoch - 1ms/step\n",
            "Epoch 23/40\n",
            "28532/28532 - 38s - loss: 659.8892 - 38s/epoch - 1ms/step\n",
            "Epoch 24/40\n",
            "28532/28532 - 38s - loss: 659.6694 - 38s/epoch - 1ms/step\n",
            "Epoch 25/40\n",
            "28532/28532 - 38s - loss: 659.3763 - 38s/epoch - 1ms/step\n",
            "Epoch 26/40\n",
            "28532/28532 - 38s - loss: 659.4125 - 38s/epoch - 1ms/step\n",
            "Epoch 27/40\n",
            "28532/28532 - 38s - loss: 659.2347 - 38s/epoch - 1ms/step\n",
            "Epoch 28/40\n",
            "28532/28532 - 38s - loss: 658.7205 - 38s/epoch - 1ms/step\n",
            "Epoch 29/40\n",
            "28532/28532 - 38s - loss: 658.4756 - 38s/epoch - 1ms/step\n",
            "Epoch 30/40\n",
            "28532/28532 - 38s - loss: 658.2925 - 38s/epoch - 1ms/step\n",
            "Epoch 31/40\n",
            "28532/28532 - 38s - loss: 657.6903 - 38s/epoch - 1ms/step\n",
            "Epoch 32/40\n",
            "28532/28532 - 38s - loss: 656.9611 - 38s/epoch - 1ms/step\n",
            "Epoch 33/40\n",
            "28532/28532 - 38s - loss: 655.2162 - 38s/epoch - 1ms/step\n",
            "Epoch 34/40\n",
            "28532/28532 - 38s - loss: 652.3540 - 38s/epoch - 1ms/step\n",
            "Epoch 35/40\n",
            "28532/28532 - 38s - loss: 651.3265 - 38s/epoch - 1ms/step\n",
            "Epoch 36/40\n",
            "28532/28532 - 38s - loss: 651.2247 - 38s/epoch - 1ms/step\n",
            "Epoch 37/40\n",
            "28532/28532 - 38s - loss: 650.9496 - 38s/epoch - 1ms/step\n",
            "Epoch 38/40\n",
            "28532/28532 - 38s - loss: 650.7256 - 38s/epoch - 1ms/step\n",
            "Epoch 39/40\n",
            "28532/28532 - 38s - loss: 650.5610 - 38s/epoch - 1ms/step\n",
            "Epoch 40/40\n",
            "28532/28532 - 38s - loss: 650.3413 - 38s/epoch - 1ms/step\n"
          ]
        }
      ]
    },
    {
      "cell_type": "markdown",
      "source": [
        "## Convolutional Neural Network (CNN)\n",
        "\n"
      ],
      "metadata": {
        "id": "Cx3uBoFhb1rF"
      }
    },
    {
      "cell_type": "code",
      "source": [
        "X_train_series = X_train.values.reshape((X_train.shape[0], -1, 1))"
      ],
      "metadata": {
        "id": "l754zJUgb4tq"
      },
      "execution_count": 712,
      "outputs": []
    },
    {
      "cell_type": "code",
      "source": [
        "model_cnn = Sequential()\n",
        "model_cnn.add(Conv1D(filters=64, kernel_size=2, activation='relu', input_shape=(X_train_series.shape[1], X_train_series.shape[2])))\n",
        "model_cnn.add(MaxPooling1D(pool_size=2))\n",
        "model_cnn.add(Flatten())\n",
        "model_cnn.add(Dense(50, activation='relu'))\n",
        "model_cnn.add(Dense(1))\n",
        "model_cnn.compile(loss='mse', optimizer=adam)\n",
        "model_cnn.summary()"
      ],
      "metadata": {
        "colab": {
          "base_uri": "https://localhost:8080/"
        },
        "id": "KeCEU5G6cbPg",
        "outputId": "0f6a4b29-2bae-4b5f-c334-d6f9646fcd86"
      },
      "execution_count": 713,
      "outputs": [
        {
          "output_type": "stream",
          "name": "stdout",
          "text": [
            "Model: \"sequential_7\"\n",
            "_________________________________________________________________\n",
            " Layer (type)                Output Shape              Param #   \n",
            "=================================================================\n",
            " conv1d (Conv1D)             (None, 4, 64)             192       \n",
            "                                                                 \n",
            " max_pooling1d (MaxPooling1D  (None, 2, 64)            0         \n",
            " )                                                               \n",
            "                                                                 \n",
            " flatten (Flatten)           (None, 128)               0         \n",
            "                                                                 \n",
            " dense_12 (Dense)            (None, 50)                6450      \n",
            "                                                                 \n",
            " dense_13 (Dense)            (None, 1)                 51        \n",
            "                                                                 \n",
            "=================================================================\n",
            "Total params: 6,693\n",
            "Trainable params: 6,693\n",
            "Non-trainable params: 0\n",
            "_________________________________________________________________\n"
          ]
        }
      ]
    },
    {
      "cell_type": "code",
      "source": [
        "cnn = model_cnn.fit(X_train_series, y_train, epochs=epochs, verbose=2)"
      ],
      "metadata": {
        "colab": {
          "base_uri": "https://localhost:8080/"
        },
        "id": "HZ3UpDpYce5t",
        "outputId": "225d36a4-cd87-479f-c833-8a2c958595c0"
      },
      "execution_count": 714,
      "outputs": [
        {
          "output_type": "stream",
          "name": "stdout",
          "text": [
            "Epoch 1/40\n",
            "28532/28532 - 46s - loss: 753.4568 - 46s/epoch - 2ms/step\n",
            "Epoch 2/40\n",
            "28532/28532 - 59s - loss: 643.9768 - 59s/epoch - 2ms/step\n",
            "Epoch 3/40\n",
            "28532/28532 - 58s - loss: 603.7672 - 58s/epoch - 2ms/step\n",
            "Epoch 4/40\n",
            "28532/28532 - 50s - loss: 582.2058 - 50s/epoch - 2ms/step\n",
            "Epoch 5/40\n",
            "28532/28532 - 42s - loss: 568.8325 - 42s/epoch - 1ms/step\n",
            "Epoch 6/40\n",
            "28532/28532 - 43s - loss: 557.6154 - 43s/epoch - 2ms/step\n",
            "Epoch 7/40\n",
            "28532/28532 - 42s - loss: 549.3115 - 42s/epoch - 1ms/step\n",
            "Epoch 8/40\n",
            "28532/28532 - 47s - loss: 543.8334 - 47s/epoch - 2ms/step\n",
            "Epoch 9/40\n",
            "28532/28532 - 46s - loss: 539.2084 - 46s/epoch - 2ms/step\n",
            "Epoch 10/40\n",
            "28532/28532 - 56s - loss: 536.3652 - 56s/epoch - 2ms/step\n",
            "Epoch 11/40\n",
            "28532/28532 - 52s - loss: 533.9535 - 52s/epoch - 2ms/step\n",
            "Epoch 12/40\n",
            "28532/28532 - 51s - loss: 531.1520 - 51s/epoch - 2ms/step\n",
            "Epoch 13/40\n",
            "28532/28532 - 49s - loss: 528.2473 - 49s/epoch - 2ms/step\n",
            "Epoch 14/40\n",
            "28532/28532 - 48s - loss: 525.7381 - 48s/epoch - 2ms/step\n",
            "Epoch 15/40\n",
            "28532/28532 - 45s - loss: 523.7826 - 45s/epoch - 2ms/step\n",
            "Epoch 16/40\n",
            "28532/28532 - 41s - loss: 521.2599 - 41s/epoch - 1ms/step\n",
            "Epoch 17/40\n",
            "28532/28532 - 42s - loss: 517.4980 - 42s/epoch - 1ms/step\n",
            "Epoch 18/40\n",
            "28532/28532 - 42s - loss: 510.1567 - 42s/epoch - 1ms/step\n",
            "Epoch 19/40\n",
            "28532/28532 - 42s - loss: 504.1430 - 42s/epoch - 1ms/step\n",
            "Epoch 20/40\n",
            "28532/28532 - 42s - loss: 498.0410 - 42s/epoch - 1ms/step\n",
            "Epoch 21/40\n",
            "28532/28532 - 42s - loss: 493.3829 - 42s/epoch - 1ms/step\n",
            "Epoch 22/40\n",
            "28532/28532 - 42s - loss: 489.8074 - 42s/epoch - 1ms/step\n",
            "Epoch 23/40\n",
            "28532/28532 - 42s - loss: 487.2668 - 42s/epoch - 1ms/step\n",
            "Epoch 24/40\n",
            "28532/28532 - 42s - loss: 485.6093 - 42s/epoch - 1ms/step\n",
            "Epoch 25/40\n",
            "28532/28532 - 42s - loss: 484.2868 - 42s/epoch - 1ms/step\n",
            "Epoch 26/40\n",
            "28532/28532 - 41s - loss: 483.2953 - 41s/epoch - 1ms/step\n",
            "Epoch 27/40\n",
            "28532/28532 - 41s - loss: 482.2529 - 41s/epoch - 1ms/step\n",
            "Epoch 28/40\n",
            "28532/28532 - 42s - loss: 480.6199 - 42s/epoch - 1ms/step\n",
            "Epoch 29/40\n",
            "28532/28532 - 42s - loss: 477.9598 - 42s/epoch - 1ms/step\n",
            "Epoch 30/40\n",
            "28532/28532 - 42s - loss: 475.0198 - 42s/epoch - 1ms/step\n",
            "Epoch 31/40\n",
            "28532/28532 - 42s - loss: 472.3375 - 42s/epoch - 1ms/step\n",
            "Epoch 32/40\n",
            "28532/28532 - 43s - loss: 470.7690 - 43s/epoch - 1ms/step\n",
            "Epoch 33/40\n",
            "28532/28532 - 42s - loss: 469.3092 - 42s/epoch - 1ms/step\n",
            "Epoch 34/40\n",
            "28532/28532 - 42s - loss: 468.0434 - 42s/epoch - 1ms/step\n",
            "Epoch 35/40\n",
            "28532/28532 - 43s - loss: 467.7286 - 43s/epoch - 1ms/step\n",
            "Epoch 36/40\n",
            "28532/28532 - 42s - loss: 466.7450 - 42s/epoch - 1ms/step\n",
            "Epoch 37/40\n",
            "28532/28532 - 42s - loss: 466.3243 - 42s/epoch - 1ms/step\n",
            "Epoch 38/40\n",
            "28532/28532 - 42s - loss: 465.8814 - 42s/epoch - 1ms/step\n",
            "Epoch 39/40\n",
            "28532/28532 - 41s - loss: 465.2862 - 41s/epoch - 1ms/step\n",
            "Epoch 40/40\n",
            "28532/28532 - 43s - loss: 464.7618 - 43s/epoch - 1ms/step\n"
          ]
        }
      ]
    },
    {
      "cell_type": "markdown",
      "source": [
        "## Long Short-Term Memory (LSTM)"
      ],
      "metadata": {
        "id": "QHzZHhRMcp99"
      }
    },
    {
      "cell_type": "code",
      "source": [
        "model_lstm = Sequential()\n",
        "model_lstm.add(LSTM(50, activation='relu', input_shape=(X_train_series.shape[1], X_train_series.shape[2])))\n",
        "model_lstm.add(Dense(1))\n",
        "model_lstm.compile(loss='mse', optimizer=adam)\n",
        "model_lstm.summary()"
      ],
      "metadata": {
        "colab": {
          "base_uri": "https://localhost:8080/"
        },
        "id": "tTqRtKbicyKq",
        "outputId": "e9063553-00cc-47ff-e9e0-79d4a418f4e2"
      },
      "execution_count": 715,
      "outputs": [
        {
          "output_type": "stream",
          "name": "stdout",
          "text": [
            "Model: \"sequential_8\"\n",
            "_________________________________________________________________\n",
            " Layer (type)                Output Shape              Param #   \n",
            "=================================================================\n",
            " lstm (LSTM)                 (None, 50)                10400     \n",
            "                                                                 \n",
            " dense_14 (Dense)            (None, 1)                 51        \n",
            "                                                                 \n",
            "=================================================================\n",
            "Total params: 10,451\n",
            "Trainable params: 10,451\n",
            "Non-trainable params: 0\n",
            "_________________________________________________________________\n"
          ]
        }
      ]
    },
    {
      "cell_type": "code",
      "source": [
        "lstm = model_lstm.fit(X_train_series, y_train, epochs=epochs, verbose=2)"
      ],
      "metadata": {
        "colab": {
          "base_uri": "https://localhost:8080/"
        },
        "id": "K_WTp6NCczRA",
        "outputId": "b33c3640-4d05-4288-ddc2-6d00794783b8"
      },
      "execution_count": 716,
      "outputs": [
        {
          "output_type": "stream",
          "name": "stdout",
          "text": [
            "Epoch 1/40\n",
            "28532/28532 - 105s - loss: 626.8792 - 105s/epoch - 4ms/step\n",
            "Epoch 2/40\n",
            "28532/28532 - 102s - loss: 518.2112 - 102s/epoch - 4ms/step\n",
            "Epoch 3/40\n",
            "28532/28532 - 99s - loss: 483.4965 - 99s/epoch - 3ms/step\n",
            "Epoch 4/40\n",
            "28532/28532 - 100s - loss: 451.9454 - 100s/epoch - 4ms/step\n",
            "Epoch 5/40\n",
            "28532/28532 - 100s - loss: 445.0247 - 100s/epoch - 3ms/step\n",
            "Epoch 6/40\n",
            "28532/28532 - 100s - loss: 415.4118 - 100s/epoch - 4ms/step\n",
            "Epoch 7/40\n",
            "28532/28532 - 105s - loss: 383.3302 - 105s/epoch - 4ms/step\n",
            "Epoch 8/40\n",
            "28532/28532 - 101s - loss: 364.5554 - 101s/epoch - 4ms/step\n",
            "Epoch 9/40\n",
            "28532/28532 - 99s - loss: 347.2736 - 99s/epoch - 3ms/step\n",
            "Epoch 10/40\n",
            "28532/28532 - 100s - loss: 327.5079 - 100s/epoch - 4ms/step\n",
            "Epoch 11/40\n",
            "28532/28532 - 98s - loss: 309.2932 - 98s/epoch - 3ms/step\n",
            "Epoch 12/40\n",
            "28532/28532 - 101s - loss: 295.1651 - 101s/epoch - 4ms/step\n",
            "Epoch 13/40\n",
            "28532/28532 - 101s - loss: 285.3987 - 101s/epoch - 4ms/step\n",
            "Epoch 14/40\n",
            "28532/28532 - 99s - loss: 284.7012 - 99s/epoch - 3ms/step\n",
            "Epoch 15/40\n",
            "28532/28532 - 100s - loss: 271.1026 - 100s/epoch - 3ms/step\n",
            "Epoch 16/40\n",
            "28532/28532 - 99s - loss: 288.1280 - 99s/epoch - 3ms/step\n",
            "Epoch 17/40\n",
            "28532/28532 - 100s - loss: 228.5179 - 100s/epoch - 4ms/step\n",
            "Epoch 18/40\n",
            "28532/28532 - 100s - loss: 197.5667 - 100s/epoch - 4ms/step\n",
            "Epoch 19/40\n",
            "28532/28532 - 98s - loss: 202.2846 - 98s/epoch - 3ms/step\n",
            "Epoch 20/40\n",
            "28532/28532 - 98s - loss: 243.8560 - 98s/epoch - 3ms/step\n",
            "Epoch 21/40\n",
            "28532/28532 - 98s - loss: 203.7973 - 98s/epoch - 3ms/step\n",
            "Epoch 22/40\n",
            "28532/28532 - 101s - loss: 192.4424 - 101s/epoch - 4ms/step\n",
            "Epoch 23/40\n",
            "28532/28532 - 103s - loss: 187.6100 - 103s/epoch - 4ms/step\n",
            "Epoch 24/40\n",
            "28532/28532 - 106s - loss: 173.9140 - 106s/epoch - 4ms/step\n",
            "Epoch 25/40\n",
            "28532/28532 - 103s - loss: 170.8286 - 103s/epoch - 4ms/step\n",
            "Epoch 26/40\n",
            "28532/28532 - 98s - loss: 169.1166 - 98s/epoch - 3ms/step\n",
            "Epoch 27/40\n",
            "28532/28532 - 100s - loss: 167.9388 - 100s/epoch - 4ms/step\n",
            "Epoch 28/40\n",
            "28532/28532 - 103s - loss: 165.5630 - 103s/epoch - 4ms/step\n",
            "Epoch 29/40\n",
            "28532/28532 - 101s - loss: 165.3934 - 101s/epoch - 4ms/step\n",
            "Epoch 30/40\n",
            "28532/28532 - 101s - loss: 163.7050 - 101s/epoch - 4ms/step\n",
            "Epoch 31/40\n",
            "28532/28532 - 101s - loss: 162.6892 - 101s/epoch - 4ms/step\n",
            "Epoch 32/40\n",
            "28532/28532 - 101s - loss: 162.2681 - 101s/epoch - 4ms/step\n",
            "Epoch 33/40\n",
            "28532/28532 - 103s - loss: 161.5018 - 103s/epoch - 4ms/step\n",
            "Epoch 34/40\n",
            "28532/28532 - 102s - loss: 160.9043 - 102s/epoch - 4ms/step\n",
            "Epoch 35/40\n",
            "28532/28532 - 98s - loss: 161.0287 - 98s/epoch - 3ms/step\n",
            "Epoch 36/40\n",
            "28532/28532 - 99s - loss: 159.8330 - 99s/epoch - 3ms/step\n",
            "Epoch 37/40\n",
            "28532/28532 - 101s - loss: 160.2265 - 101s/epoch - 4ms/step\n",
            "Epoch 38/40\n",
            "28532/28532 - 102s - loss: 159.1475 - 102s/epoch - 4ms/step\n",
            "Epoch 39/40\n",
            "28532/28532 - 101s - loss: 159.0906 - 101s/epoch - 4ms/step\n",
            "Epoch 40/40\n",
            "28532/28532 - 99s - loss: 157.9076 - 99s/epoch - 3ms/step\n"
          ]
        }
      ]
    },
    {
      "cell_type": "markdown",
      "source": [
        "## CNN + LSTM"
      ],
      "metadata": {
        "id": "XU4qeyCGc4qp"
      }
    },
    {
      "cell_type": "code",
      "source": [
        "subsequences = 1\n",
        "timesteps = X_train_series.shape[1]//subsequences\n",
        "X_train_series_sub = X_train_series.reshape((X_train_series.shape[0], subsequences, timesteps, 1))"
      ],
      "metadata": {
        "id": "fY2RrciSdBo8"
      },
      "execution_count": 720,
      "outputs": []
    },
    {
      "cell_type": "code",
      "source": [
        "model_cnn_lstm = Sequential()\n",
        "model_cnn_lstm.add(TimeDistributed(Conv1D(filters=64, kernel_size=1, activation='relu'), input_shape=(None, X_train_series_sub.shape[2], X_train_series_sub.shape[3])))\n",
        "model_cnn_lstm.add(TimeDistributed(MaxPooling1D(pool_size=2)))\n",
        "model_cnn_lstm.add(TimeDistributed(Flatten()))\n",
        "model_cnn_lstm.add(LSTM(50, activation='relu'))\n",
        "model_cnn_lstm.add(Dense(1))\n",
        "model_cnn_lstm.compile(loss='mse', optimizer=adam)"
      ],
      "metadata": {
        "id": "Vwu_bNSOdBKl"
      },
      "execution_count": 721,
      "outputs": []
    },
    {
      "cell_type": "code",
      "source": [
        "cnn_lstm = model_cnn_lstm.fit(X_train_series_sub, y_train, epochs=epochs, verbose=2)"
      ],
      "metadata": {
        "colab": {
          "base_uri": "https://localhost:8080/"
        },
        "id": "9M4UFKgzdLx-",
        "outputId": "bb9cd0cc-85ac-49e2-b6f4-df78f5e94c2b"
      },
      "execution_count": 722,
      "outputs": [
        {
          "output_type": "stream",
          "name": "stdout",
          "text": [
            "Epoch 1/40\n",
            "28532/28532 - 73s - loss: 805.2680 - 73s/epoch - 3ms/step\n",
            "Epoch 2/40\n",
            "28532/28532 - 74s - loss: 762.1086 - 74s/epoch - 3ms/step\n",
            "Epoch 3/40\n",
            "28532/28532 - 74s - loss: 750.3818 - 74s/epoch - 3ms/step\n",
            "Epoch 4/40\n",
            "28532/28532 - 70s - loss: 746.9261 - 70s/epoch - 2ms/step\n",
            "Epoch 5/40\n",
            "28532/28532 - 71s - loss: 741.7994 - 71s/epoch - 2ms/step\n",
            "Epoch 6/40\n",
            "28532/28532 - 69s - loss: 725.8451 - 69s/epoch - 2ms/step\n",
            "Epoch 7/40\n",
            "28532/28532 - 70s - loss: 709.5344 - 70s/epoch - 2ms/step\n",
            "Epoch 8/40\n",
            "28532/28532 - 70s - loss: 681.6620 - 70s/epoch - 2ms/step\n",
            "Epoch 9/40\n",
            "28532/28532 - 74s - loss: 654.4267 - 74s/epoch - 3ms/step\n",
            "Epoch 10/40\n",
            "28532/28532 - 75s - loss: 622.5470 - 75s/epoch - 3ms/step\n",
            "Epoch 11/40\n",
            "28532/28532 - 75s - loss: 607.3168 - 75s/epoch - 3ms/step\n",
            "Epoch 12/40\n",
            "28532/28532 - 70s - loss: 602.4496 - 70s/epoch - 2ms/step\n",
            "Epoch 13/40\n",
            "28532/28532 - 73s - loss: 599.4656 - 73s/epoch - 3ms/step\n",
            "Epoch 14/40\n",
            "28532/28532 - 74s - loss: 597.1338 - 74s/epoch - 3ms/step\n",
            "Epoch 15/40\n",
            "28532/28532 - 75s - loss: 595.2229 - 75s/epoch - 3ms/step\n",
            "Epoch 16/40\n",
            "28532/28532 - 75s - loss: 591.9236 - 75s/epoch - 3ms/step\n",
            "Epoch 17/40\n",
            "28532/28532 - 76s - loss: 577.9280 - 76s/epoch - 3ms/step\n",
            "Epoch 18/40\n",
            "28532/28532 - 73s - loss: 558.8964 - 73s/epoch - 3ms/step\n",
            "Epoch 19/40\n",
            "28532/28532 - 73s - loss: 553.1167 - 73s/epoch - 3ms/step\n",
            "Epoch 20/40\n",
            "28532/28532 - 75s - loss: 549.8863 - 75s/epoch - 3ms/step\n",
            "Epoch 21/40\n",
            "28532/28532 - 71s - loss: 547.6331 - 71s/epoch - 2ms/step\n",
            "Epoch 22/40\n",
            "28532/28532 - 74s - loss: 545.8485 - 74s/epoch - 3ms/step\n",
            "Epoch 23/40\n",
            "28532/28532 - 74s - loss: 544.7402 - 74s/epoch - 3ms/step\n",
            "Epoch 24/40\n",
            "28532/28532 - 77s - loss: 543.1851 - 77s/epoch - 3ms/step\n",
            "Epoch 25/40\n",
            "28532/28532 - 76s - loss: 542.3621 - 76s/epoch - 3ms/step\n",
            "Epoch 26/40\n",
            "28532/28532 - 70s - loss: 541.3667 - 70s/epoch - 2ms/step\n",
            "Epoch 27/40\n",
            "28532/28532 - 71s - loss: 540.6041 - 71s/epoch - 2ms/step\n",
            "Epoch 28/40\n",
            "28532/28532 - 74s - loss: 539.8209 - 74s/epoch - 3ms/step\n",
            "Epoch 29/40\n",
            "28532/28532 - 73s - loss: 539.1038 - 73s/epoch - 3ms/step\n",
            "Epoch 30/40\n",
            "28532/28532 - 71s - loss: 538.4032 - 71s/epoch - 2ms/step\n",
            "Epoch 31/40\n",
            "28532/28532 - 73s - loss: 537.8810 - 73s/epoch - 3ms/step\n",
            "Epoch 32/40\n",
            "28532/28532 - 77s - loss: 537.2180 - 77s/epoch - 3ms/step\n",
            "Epoch 33/40\n",
            "28532/28532 - 73s - loss: 536.5669 - 73s/epoch - 3ms/step\n",
            "Epoch 34/40\n",
            "28532/28532 - 73s - loss: 536.0673 - 73s/epoch - 3ms/step\n",
            "Epoch 35/40\n",
            "28532/28532 - 74s - loss: 535.3992 - 74s/epoch - 3ms/step\n",
            "Epoch 36/40\n",
            "28532/28532 - 72s - loss: 535.0199 - 72s/epoch - 3ms/step\n",
            "Epoch 37/40\n",
            "28532/28532 - 74s - loss: 534.5518 - 74s/epoch - 3ms/step\n",
            "Epoch 38/40\n",
            "28532/28532 - 76s - loss: 534.0737 - 76s/epoch - 3ms/step\n",
            "Epoch 39/40\n",
            "28532/28532 - 79s - loss: 533.7581 - 79s/epoch - 3ms/step\n",
            "Epoch 40/40\n",
            "28532/28532 - 76s - loss: 533.3783 - 76s/epoch - 3ms/step\n"
          ]
        }
      ]
    }
  ]
}